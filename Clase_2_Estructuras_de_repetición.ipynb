{
  "nbformat": 4,
  "nbformat_minor": 0,
  "metadata": {
    "colab": {
      "provenance": [],
      "authorship_tag": "ABX9TyMCjrlTYLXTuHwBDouiD4zh",
      "include_colab_link": true
    },
    "kernelspec": {
      "name": "python3",
      "display_name": "Python 3"
    },
    "language_info": {
      "name": "python"
    }
  },
  "cells": [
    {
      "cell_type": "markdown",
      "metadata": {
        "id": "view-in-github",
        "colab_type": "text"
      },
      "source": [
        "<a href=\"https://colab.research.google.com/github/vale-07-bit/PROGCOM-A/blob/main/Clase_2_Estructuras_de_repetici%C3%B3n.ipynb\" target=\"_parent\"><img src=\"https://colab.research.google.com/assets/colab-badge.svg\" alt=\"Open In Colab\"/></a>"
      ]
    },
    {
      "cell_type": "markdown",
      "source": [
        "#TIPOS DE ERROR\n",
        "1. index: en una lista no está la posición\n",
        "2. definición: cuando  no se definió la variable\n",
        "3. sintasis: error en la escritura de las palabras"
      ],
      "metadata": {
        "id": "HZ-Qsh5N2S7j"
      }
    },
    {
      "cell_type": "code",
      "source": [],
      "metadata": {
        "id": "gpXo5qgY2mzw"
      },
      "execution_count": null,
      "outputs": []
    },
    {
      "cell_type": "markdown",
      "source": [
        "##Estructuras de repetición\n",
        "\n",
        "Permite repetir una o más de acuerdo con una condición (mientras se cumpla la condición).\n",
        "\n"
      ],
      "metadata": {
        "id": "CN8OBCwYQUjh"
      }
    },
    {
      "cell_type": "markdown",
      "source": [
        "###Estructura para -  for\n",
        "1. Cuando se sabe cunántas veces se repigte una acción.\n",
        "2. Está conformadopor una condición inicial (CI), una condiicón final (CF) y pasos.\n",
        "3. Esta estructura no se detendrá, hasta alcanzar CF-1\n",
        "\n",
        "Estructura general del for\n",
        "\n",
        "```\n",
        "for (variable) in range (CI, CF+1, paso)\n",
        " Se repite (CF+1-CI)/ paso veces una acción\n",
        "```\n",
        "Estructura resumida del for\n",
        "```\n",
        "for (variale) in range (cantidad):\n",
        " Se repite cantidad de veces\n",
        "```\n",
        "Estructura for como iteracción.\n",
        "1. El para itera tantas veces como elementos tenga la lista.\n",
        "2. La variable toma el valor de cada elemento por iteración.\n",
        "```\n",
        "Lista=[1,2,3,4,5]\n",
        "for (variable) in Lista:\n",
        "  Se repite len(lista)\n",
        "```\n",
        "\n",
        "\n",
        "\n",
        "\n"
      ],
      "metadata": {
        "id": "x6OHGeoAQm87"
      }
    },
    {
      "cell_type": "code",
      "execution_count": null,
      "metadata": {
        "colab": {
          "base_uri": "https://localhost:8080/"
        },
        "id": "y3UIy6pAPf7c",
        "outputId": "31e2fabb-e091-4920-d74f-35643e6bb358"
      },
      "outputs": [
        {
          "name": "stdout",
          "output_type": "stream",
          "text": [
            "El número que desea tabular es: 2\n"
          ]
        }
      ],
      "source": [
        "#Hacer la tabla de multiplicar de un número n.\n",
        "n= int(input(\"El número que desea tabular es: \"))"
      ]
    },
    {
      "cell_type": "code",
      "source": [
        "type(n)"
      ],
      "metadata": {
        "colab": {
          "base_uri": "https://localhost:8080/"
        },
        "id": "beBlqkNGdm7P",
        "outputId": "92b9fc1b-ba51-48b0-ea46-ab6084351d89"
      },
      "execution_count": null,
      "outputs": [
        {
          "output_type": "execute_result",
          "data": {
            "text/plain": [
              "int"
            ]
          },
          "metadata": {},
          "execution_count": 86
        }
      ]
    },
    {
      "cell_type": "code",
      "source": [
        "print(f\"Tabla del {n}\")\n",
        "for holitas in range (1,11,1):\n",
        "  print(f\"{n} x {holitas} = {n*holitas}\")"
      ],
      "metadata": {
        "colab": {
          "base_uri": "https://localhost:8080/"
        },
        "id": "TQN5RcyobyY3",
        "outputId": "5ed63fbd-1b09-4892-b9ba-331a18087bba"
      },
      "execution_count": null,
      "outputs": [
        {
          "output_type": "stream",
          "name": "stdout",
          "text": [
            "Tabla del 2\n",
            "2 x 1 = 2\n",
            "2 x 2 = 4\n",
            "2 x 3 = 6\n",
            "2 x 4 = 8\n",
            "2 x 5 = 10\n",
            "2 x 6 = 12\n",
            "2 x 7 = 14\n",
            "2 x 8 = 16\n",
            "2 x 9 = 18\n",
            "2 x 10 = 20\n"
          ]
        }
      ]
    },
    {
      "cell_type": "code",
      "source": [
        "print(\"TABLAS DE MULTIPLICAR\")\n",
        "for fresitas in range (1,11,1):\n",
        " print(f\"\")\n",
        " print(f\"Tabla del {fresitas}\")\n",
        " for rositas in range (1,11,1):\n",
        "   print(f\"{rositas} x {fresitas} = {fresitas*rositas}\")"
      ],
      "metadata": {
        "colab": {
          "base_uri": "https://localhost:8080/"
        },
        "id": "X64awu8UUm3e",
        "outputId": "0efc6f44-ad17-4ff0-c58a-29de82540791"
      },
      "execution_count": null,
      "outputs": [
        {
          "output_type": "stream",
          "name": "stdout",
          "text": [
            "TABLAS DE MULTIPLICAR\n",
            "\n",
            "Tabla del 1\n",
            "1 x 1 = 1\n",
            "2 x 1 = 2\n",
            "3 x 1 = 3\n",
            "4 x 1 = 4\n",
            "5 x 1 = 5\n",
            "6 x 1 = 6\n",
            "7 x 1 = 7\n",
            "8 x 1 = 8\n",
            "9 x 1 = 9\n",
            "10 x 1 = 10\n",
            "\n",
            "Tabla del 2\n",
            "1 x 2 = 2\n",
            "2 x 2 = 4\n",
            "3 x 2 = 6\n",
            "4 x 2 = 8\n",
            "5 x 2 = 10\n",
            "6 x 2 = 12\n",
            "7 x 2 = 14\n",
            "8 x 2 = 16\n",
            "9 x 2 = 18\n",
            "10 x 2 = 20\n",
            "\n",
            "Tabla del 3\n",
            "1 x 3 = 3\n",
            "2 x 3 = 6\n",
            "3 x 3 = 9\n",
            "4 x 3 = 12\n",
            "5 x 3 = 15\n",
            "6 x 3 = 18\n",
            "7 x 3 = 21\n",
            "8 x 3 = 24\n",
            "9 x 3 = 27\n",
            "10 x 3 = 30\n",
            "\n",
            "Tabla del 4\n",
            "1 x 4 = 4\n",
            "2 x 4 = 8\n",
            "3 x 4 = 12\n",
            "4 x 4 = 16\n",
            "5 x 4 = 20\n",
            "6 x 4 = 24\n",
            "7 x 4 = 28\n",
            "8 x 4 = 32\n",
            "9 x 4 = 36\n",
            "10 x 4 = 40\n",
            "\n",
            "Tabla del 5\n",
            "1 x 5 = 5\n",
            "2 x 5 = 10\n",
            "3 x 5 = 15\n",
            "4 x 5 = 20\n",
            "5 x 5 = 25\n",
            "6 x 5 = 30\n",
            "7 x 5 = 35\n",
            "8 x 5 = 40\n",
            "9 x 5 = 45\n",
            "10 x 5 = 50\n",
            "\n",
            "Tabla del 6\n",
            "1 x 6 = 6\n",
            "2 x 6 = 12\n",
            "3 x 6 = 18\n",
            "4 x 6 = 24\n",
            "5 x 6 = 30\n",
            "6 x 6 = 36\n",
            "7 x 6 = 42\n",
            "8 x 6 = 48\n",
            "9 x 6 = 54\n",
            "10 x 6 = 60\n",
            "\n",
            "Tabla del 7\n",
            "1 x 7 = 7\n",
            "2 x 7 = 14\n",
            "3 x 7 = 21\n",
            "4 x 7 = 28\n",
            "5 x 7 = 35\n",
            "6 x 7 = 42\n",
            "7 x 7 = 49\n",
            "8 x 7 = 56\n",
            "9 x 7 = 63\n",
            "10 x 7 = 70\n",
            "\n",
            "Tabla del 8\n",
            "1 x 8 = 8\n",
            "2 x 8 = 16\n",
            "3 x 8 = 24\n",
            "4 x 8 = 32\n",
            "5 x 8 = 40\n",
            "6 x 8 = 48\n",
            "7 x 8 = 56\n",
            "8 x 8 = 64\n",
            "9 x 8 = 72\n",
            "10 x 8 = 80\n",
            "\n",
            "Tabla del 9\n",
            "1 x 9 = 9\n",
            "2 x 9 = 18\n",
            "3 x 9 = 27\n",
            "4 x 9 = 36\n",
            "5 x 9 = 45\n",
            "6 x 9 = 54\n",
            "7 x 9 = 63\n",
            "8 x 9 = 72\n",
            "9 x 9 = 81\n",
            "10 x 9 = 90\n",
            "\n",
            "Tabla del 10\n",
            "1 x 10 = 10\n",
            "2 x 10 = 20\n",
            "3 x 10 = 30\n",
            "4 x 10 = 40\n",
            "5 x 10 = 50\n",
            "6 x 10 = 60\n",
            "7 x 10 = 70\n",
            "8 x 10 = 80\n",
            "9 x 10 = 90\n",
            "10 x 10 = 100\n"
          ]
        }
      ]
    },
    {
      "cell_type": "code",
      "source": [
        "print(f\"Tabla del n\")\n",
        "for holitas in range (10):\n",
        "  print(f\"{n} x {holitas+1} = {n *(holitas+1)}\")"
      ],
      "metadata": {
        "colab": {
          "base_uri": "https://localhost:8080/"
        },
        "id": "p9nyBbt7c6oR",
        "outputId": "b919dbd8-32b1-41fe-ddae-2da2650eaca5"
      },
      "execution_count": null,
      "outputs": [
        {
          "output_type": "stream",
          "name": "stdout",
          "text": [
            "Tabla del n\n",
            "2 x 1 = 2\n",
            "2 x 2 = 4\n",
            "2 x 3 = 6\n",
            "2 x 4 = 8\n",
            "2 x 5 = 10\n",
            "2 x 6 = 12\n",
            "2 x 7 = 14\n",
            "2 x 8 = 16\n",
            "2 x 9 = 18\n",
            "2 x 10 = 20\n"
          ]
        }
      ]
    },
    {
      "cell_type": "code",
      "source": [
        "print(f\"Tabla del {n}\")\n",
        "for holitas in range (1,11*n,n):\n",
        "  print(f\"{n} x {int(holitas/n)} = {n*int(holitas/n)}\")"
      ],
      "metadata": {
        "colab": {
          "base_uri": "https://localhost:8080/"
        },
        "id": "OGhzwu6sc-T3",
        "outputId": "c73df746-b3d8-4723-c6ed-e67da1fe4f24"
      },
      "execution_count": null,
      "outputs": [
        {
          "output_type": "stream",
          "name": "stdout",
          "text": [
            "Tabla del 2\n",
            "2 x 0 = 0\n",
            "2 x 1 = 2\n",
            "2 x 2 = 4\n",
            "2 x 3 = 6\n",
            "2 x 4 = 8\n",
            "2 x 5 = 10\n",
            "2 x 6 = 12\n",
            "2 x 7 = 14\n",
            "2 x 8 = 16\n",
            "2 x 9 = 18\n",
            "2 x 10 = 20\n"
          ]
        }
      ]
    },
    {
      "cell_type": "code",
      "source": [
        "numeros=[1,2,3,4,5,6,7,8,9,10]\n",
        "for num in numeros:\n",
        "  print(f\"{n} x {num} = {n*num}\")"
      ],
      "metadata": {
        "colab": {
          "base_uri": "https://localhost:8080/"
        },
        "id": "AlQAU_cUfSyN",
        "outputId": "0a84b7d2-95fa-4448-a575-6f3390f2ac44"
      },
      "execution_count": null,
      "outputs": [
        {
          "output_type": "stream",
          "name": "stdout",
          "text": [
            "2 x 1 = 2\n",
            "2 x 2 = 4\n",
            "2 x 3 = 6\n",
            "2 x 4 = 8\n",
            "2 x 5 = 10\n",
            "2 x 6 = 12\n",
            "2 x 7 = 14\n",
            "2 x 8 = 16\n",
            "2 x 9 = 18\n",
            "2 x 10 = 20\n"
          ]
        }
      ]
    },
    {
      "cell_type": "code",
      "source": [
        "numeros2=list(range(1,11))\n",
        "for num in numeros2:\n",
        "  print(f\"{n} x {num} = {n*num}\")"
      ],
      "metadata": {
        "colab": {
          "base_uri": "https://localhost:8080/"
        },
        "id": "ZYdrme3ygBMn",
        "outputId": "debd3f7d-42a5-4d1a-894e-5380399c972f"
      },
      "execution_count": null,
      "outputs": [
        {
          "output_type": "stream",
          "name": "stdout",
          "text": [
            "2 x 1 = 2\n",
            "2 x 2 = 4\n",
            "2 x 3 = 6\n",
            "2 x 4 = 8\n",
            "2 x 5 = 10\n",
            "2 x 6 = 12\n",
            "2 x 7 = 14\n",
            "2 x 8 = 16\n",
            "2 x 9 = 18\n",
            "2 x 10 = 20\n"
          ]
        }
      ]
    },
    {
      "cell_type": "markdown",
      "source": [
        "19/Agosto\n",
        "##Listas\n",
        "1. Es un tipo de datos\n",
        "2. Forma canónica para declarar una lista\n",
        "3. Todos los elementos de una lista DEBEN separarse por comas.\n",
        "\n",
        "\n",
        "```\n",
        "(variable)=[]\n",
        "```\n",
        "Ejemplo:\n",
        "flores=[\"amapola\", \"tulipan\", \"lengua de suegra\",dahlia, rosa]\n"
      ],
      "metadata": {
        "id": "UuQKksFmxvCX"
      }
    },
    {
      "cell_type": "code",
      "source": [
        "dahlia= 3 #Variable de tipo númerica. int\n",
        "rosa=\"cinco\" #Variable de tipo alfanúmerico, str\n",
        "flores=[\"amapola\", \"tulipan\", \"lengua de suegra\",dahlia, rosa]\n",
        "flores"
      ],
      "metadata": {
        "colab": {
          "base_uri": "https://localhost:8080/"
        },
        "id": "InHO_zqmznQb",
        "outputId": "ec2c8aad-aba9-4aca-9130-89fe02a485d9"
      },
      "execution_count": 14,
      "outputs": [
        {
          "output_type": "execute_result",
          "data": {
            "text/plain": [
              "['amapola', 'tulipan', 'lengua de suegra', 3, 'cinco']"
            ]
          },
          "metadata": {},
          "execution_count": 14
        }
      ]
    },
    {
      "cell_type": "markdown",
      "source": [
        "4. Manual.\n",
        "\n",
        "\n",
        "```\n",
        "Lista2=[dato1, dato2, dato3... datoN]\n",
        "```\n",
        "5. Siempre son finitas\n",
        "6. Son indexadas\n",
        "```\n",
        "Lista2=[dato1, dato2, dato3... datoN]\n",
        "```\n",
        "\n",
        "dato1 está en el index 0\n",
        "\n",
        "dato2 está ubicadp en el index 1\n",
        "7. Estructuras para la creación de listas\n",
        "\n",
        "\n",
        "```\n",
        "#Ejemplo: crear una lista de 5 elementos\n",
        "lista=[]#Para que el programa sepa que es una lista\n",
        "for sonrisas in range (5):\n",
        "\n",
        "```\n",
        "\n",
        "\n"
      ],
      "metadata": {
        "id": "dfpUsXGLz7ek"
      }
    },
    {
      "cell_type": "code",
      "source": [
        "lista=[]\n",
        "for loquesea in range (5):\n",
        " flor=input(\"ingresa el nombre de una flor: \")\n",
        " lista.append(flor)"
      ],
      "metadata": {
        "colab": {
          "base_uri": "https://localhost:8080/"
        },
        "id": "YnVyYhL82ozI",
        "outputId": "75283130-6460-413b-e3da-feb6684b77f7"
      },
      "execution_count": 23,
      "outputs": [
        {
          "name": "stdout",
          "output_type": "stream",
          "text": [
            "ingresa el nombre de una flor: rosa\n",
            "ingresa el nombre de una flor: tulipan\n",
            "ingresa el nombre de una flor: girasol\n",
            "ingresa el nombre de una flor: orquidea\n",
            "ingresa el nombre de una flor: clavel\n"
          ]
        }
      ]
    },
    {
      "cell_type": "code",
      "source": [
        "lista"
      ],
      "metadata": {
        "colab": {
          "base_uri": "https://localhost:8080/"
        },
        "id": "8uk87FDH58WG",
        "outputId": "a3535747-ae29-44f8-ba57-0b8845c88c0f"
      },
      "execution_count": 24,
      "outputs": [
        {
          "output_type": "execute_result",
          "data": {
            "text/plain": [
              "['rosa', 'tulipan', 'girasol', 'orquidea', 'clavel']"
            ]
          },
          "metadata": {},
          "execution_count": 24
        }
      ]
    },
    {
      "cell_type": "markdown",
      "source": [
        "#EJERCICIOS DE LA PRUEBA DIAGNÓSTICA\n",
        "1. Escribe un programa que imprima los números del 1 al 10.\n"
      ],
      "metadata": {
        "id": "SMFonYEn-WJd"
      }
    },
    {
      "cell_type": "code",
      "source": [
        "for i in range(10):\n",
        "  print(i+1)"
      ],
      "metadata": {
        "colab": {
          "base_uri": "https://localhost:8080/"
        },
        "id": "PK9kyPhW_VwU",
        "outputId": "01e2bd70-ce7d-4e94-e283-8a3c57611b86"
      },
      "execution_count": 47,
      "outputs": [
        {
          "output_type": "stream",
          "name": "stdout",
          "text": [
            "1\n",
            "2\n",
            "3\n",
            "4\n",
            "5\n",
            "6\n",
            "7\n",
            "8\n",
            "9\n",
            "10\n"
          ]
        }
      ]
    },
    {
      "cell_type": "code",
      "source": [
        "numeros=[]\n",
        "for i in range(10):\n",
        " numeros.append(i+1)\n",
        "print(numeros)"
      ],
      "metadata": {
        "colab": {
          "base_uri": "https://localhost:8080/"
        },
        "id": "GwvFK250-zgK",
        "outputId": "247337b9-7606-4820-b565-32ed79c668fe"
      },
      "execution_count": 46,
      "outputs": [
        {
          "output_type": "stream",
          "name": "stdout",
          "text": [
            "[1, 2, 3, 4, 5, 6, 7, 8, 9, 10]\n"
          ]
        }
      ]
    },
    {
      "cell_type": "markdown",
      "source": [
        "2. Escribe un programa que sume los números del 1 al 100."
      ],
      "metadata": {
        "id": "t1-kTBz_-dEU"
      }
    },
    {
      "cell_type": "code",
      "source": [
        "suma=0\n",
        "for i in range(101):\n",
        " suma = i+suma\n",
        "print(suma)"
      ],
      "metadata": {
        "colab": {
          "base_uri": "https://localhost:8080/"
        },
        "id": "u8Zr4FJ3_fJq",
        "outputId": "5e6b5d79-f2ec-4d96-8a6a-bed0cc2a6901"
      },
      "execution_count": 58,
      "outputs": [
        {
          "output_type": "stream",
          "name": "stdout",
          "text": [
            "5050\n"
          ]
        }
      ]
    },
    {
      "cell_type": "code",
      "source": [
        "suma_de_numeros = []\n",
        "suma=0\n",
        "for i in range(101):\n",
        " suma = i+suma\n",
        " suma_de_numeros.append(suma)\n",
        "print(suma_de_numeros)"
      ],
      "metadata": {
        "colab": {
          "base_uri": "https://localhost:8080/"
        },
        "id": "8IJyzkVyAxoE",
        "outputId": "6774adfc-4673-4f33-8f9a-80ff188d9639"
      },
      "execution_count": 61,
      "outputs": [
        {
          "output_type": "stream",
          "name": "stdout",
          "text": [
            "[0, 1, 3, 6, 10, 15, 21, 28, 36, 45, 55, 66, 78, 91, 105, 120, 136, 153, 171, 190, 210, 231, 253, 276, 300, 325, 351, 378, 406, 435, 465, 496, 528, 561, 595, 630, 666, 703, 741, 780, 820, 861, 903, 946, 990, 1035, 1081, 1128, 1176, 1225, 1275, 1326, 1378, 1431, 1485, 1540, 1596, 1653, 1711, 1770, 1830, 1891, 1953, 2016, 2080, 2145, 2211, 2278, 2346, 2415, 2485, 2556, 2628, 2701, 2775, 2850, 2926, 3003, 3081, 3160, 3240, 3321, 3403, 3486, 3570, 3655, 3741, 3828, 3916, 4005, 4095, 4186, 4278, 4371, 4465, 4560, 4656, 4753, 4851, 4950, 5050]\n"
          ]
        }
      ]
    },
    {
      "cell_type": "markdown",
      "source": [
        "3. Escribe un programa que imprima los múltiplos de 3 entre 1 y 30."
      ],
      "metadata": {
        "id": "i7Ced2w3-f5E"
      }
    },
    {
      "cell_type": "code",
      "source": [
        "for hola in range(3,31,3):\n",
        " print(hola)"
      ],
      "metadata": {
        "colab": {
          "base_uri": "https://localhost:8080/"
        },
        "id": "FMolR14GBnT_",
        "outputId": "050ef868-1ecb-44b2-97eb-4c2dd472df23"
      },
      "execution_count": 73,
      "outputs": [
        {
          "output_type": "stream",
          "name": "stdout",
          "text": [
            "3\n",
            "6\n",
            "9\n",
            "12\n",
            "15\n",
            "18\n",
            "21\n",
            "24\n",
            "27\n",
            "30\n"
          ]
        }
      ]
    },
    {
      "cell_type": "code",
      "source": [
        "multiplos=[]\n",
        "for hola in range(3,31,3):\n",
        " multiplos.append(hola)\n",
        "print(multiplos)"
      ],
      "metadata": {
        "colab": {
          "base_uri": "https://localhost:8080/"
        },
        "id": "bTsSoxbXCoMP",
        "outputId": "ad926967-445a-4661-8e87-3311dd2ed12b"
      },
      "execution_count": 80,
      "outputs": [
        {
          "output_type": "stream",
          "name": "stdout",
          "text": [
            "[3, 6, 9, 12, 15, 18, 21, 24, 27, 30]\n"
          ]
        }
      ]
    },
    {
      "cell_type": "markdown",
      "source": [
        "4. Escribe un programa que lea un número e imprima su tabla de multiplicar del 1 al 10.\n"
      ],
      "metadata": {
        "id": "OBXRF96s-ja1"
      }
    },
    {
      "cell_type": "code",
      "source": [
        "v=int(input(\"Ingrese el número que desea multiplicar: \"))\n",
        "print(\"\")\n",
        "print(f\"TABLA DEL {v}\")\n",
        "for i in range (1,11,1):\n",
        "  print(f\"{v} x {i} = {v*i}\")"
      ],
      "metadata": {
        "colab": {
          "base_uri": "https://localhost:8080/"
        },
        "id": "qGZ3Lx9zDLYm",
        "outputId": "50f9b997-081e-4036-fe99-50d8b6847d34"
      },
      "execution_count": 92,
      "outputs": [
        {
          "output_type": "stream",
          "name": "stdout",
          "text": [
            "Ingrese el número que desea multiplicar: 9\n",
            "\n",
            "TABLA DEL 9\n",
            "9 x 1 = 9\n",
            "9 x 2 = 18\n",
            "9 x 3 = 27\n",
            "9 x 4 = 36\n",
            "9 x 5 = 45\n",
            "9 x 6 = 54\n",
            "9 x 7 = 63\n",
            "9 x 8 = 72\n",
            "9 x 9 = 81\n",
            "9 x 10 = 90\n"
          ]
        }
      ]
    },
    {
      "cell_type": "code",
      "source": [
        "tabla=[]\n",
        "v=int(input(\"Ingrese el número que desea multiplicar: \"))\n",
        "print(\"\")\n",
        "print(f\"TABLA DEL {v}\")\n",
        "for i in range (1,11,1):\n",
        "  multiplicacion=v*i\n",
        "  tabla.append(multiplicacion)\n",
        "print(tabla)"
      ],
      "metadata": {
        "colab": {
          "base_uri": "https://localhost:8080/"
        },
        "id": "6vBQ6dGuEZO_",
        "outputId": "c57d32a7-9704-4f61-e5d4-f3ffb3a62060"
      },
      "execution_count": 98,
      "outputs": [
        {
          "output_type": "stream",
          "name": "stdout",
          "text": [
            "Ingrese el número que desea multiplicar: 9\n",
            "\n",
            "TABLA DEL 9\n",
            "[9, 18, 27, 36, 45, 54, 63, 72, 81, 90]\n"
          ]
        }
      ]
    },
    {
      "cell_type": "markdown",
      "source": [
        "5. Escribe un programa que pida 5 números al usuario y calcule el promedio"
      ],
      "metadata": {
        "id": "EcFJOEp3-pJD"
      }
    },
    {
      "cell_type": "code",
      "source": [
        "suma=[]\n",
        "for i in range(5):\n",
        "  numeros=int(input(\"Ingrese un número: \"))\n",
        "  suma.append(numeros)\n",
        "  mas\n",
        "  print(suma)"
      ],
      "metadata": {
        "colab": {
          "base_uri": "https://localhost:8080/"
        },
        "id": "8zodYc0NFQw5",
        "outputId": "8eb76e1d-f7f0-4a51-9420-d3e5531e6608"
      },
      "execution_count": 110,
      "outputs": [
        {
          "output_type": "stream",
          "name": "stdout",
          "text": [
            "Ingrese un número: 1\n",
            "[1]\n",
            "Ingrese un número: 2\n",
            "[1, 2]\n",
            "Ingrese un número: 3\n",
            "[1, 2, 3]\n",
            "Ingrese un número: 4\n",
            "[1, 2, 3, 4]\n",
            "Ingrese un número: 5\n",
            "[1, 2, 3, 4, 5]\n"
          ]
        }
      ]
    },
    {
      "cell_type": "markdown",
      "source": [
        "6. Escribe un programa que cuente cuántos números pares hay entre 1 y un número ingresado"
      ],
      "metadata": {
        "id": "6KLfCzuZ-sGy"
      }
    },
    {
      "cell_type": "markdown",
      "source": [
        "7. Escribe un programa que solicite contraseñas hasta que el usuario ingrese una válida, formada por su apellido y la longitud de su apellido (“Espinosa8”, por ejemplo)."
      ],
      "metadata": {
        "id": "oGBUCPFq-v6i"
      }
    }
  ]
}