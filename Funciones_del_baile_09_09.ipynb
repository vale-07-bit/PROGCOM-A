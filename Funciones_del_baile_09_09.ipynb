{
  "nbformat": 4,
  "nbformat_minor": 0,
  "metadata": {
    "colab": {
      "provenance": [],
      "authorship_tag": "ABX9TyNUSjB+wyglVMrWX7zxcfkB",
      "include_colab_link": true
    },
    "kernelspec": {
      "name": "python3",
      "display_name": "Python 3"
    },
    "language_info": {
      "name": "python"
    }
  },
  "cells": [
    {
      "cell_type": "markdown",
      "metadata": {
        "id": "view-in-github",
        "colab_type": "text"
      },
      "source": [
        "<a href=\"https://colab.research.google.com/github/vale-07-bit/PROGCOM-A/blob/main/Funciones_del_baile_09_09.ipynb\" target=\"_parent\"><img src=\"https://colab.research.google.com/assets/colab-badge.svg\" alt=\"Open In Colab\"/></a>"
      ]
    },
    {
      "cell_type": "markdown",
      "source": [
        "1. Pose inicial\n",
        "\n"
      ],
      "metadata": {
        "id": "sFvbnyDIE9wG"
      }
    },
    {
      "cell_type": "code",
      "execution_count": 16,
      "metadata": {
        "id": "XLOqqefmEhI_"
      },
      "outputs": [],
      "source": [
        "def pose_inicial(a):\n",
        "  for i in range (a):\n",
        "   print (\"Deslizar pie derecho en 45 grados\")\n",
        "   print (\"Levantar brazo izquierdo en L\")"
      ]
    },
    {
      "cell_type": "code",
      "source": [
        "pose_inicial (1)"
      ],
      "metadata": {
        "colab": {
          "base_uri": "https://localhost:8080/"
        },
        "id": "5acRzbDkFcYM",
        "outputId": "3c4bef63-ebdf-4782-920f-aa17377c95c4"
      },
      "execution_count": 17,
      "outputs": [
        {
          "output_type": "stream",
          "name": "stdout",
          "text": [
            "Deslizar pie derecho en 45 grados\n",
            "Levantar brazo izquierdo en L\n"
          ]
        }
      ]
    },
    {
      "cell_type": "markdown",
      "source": [
        "2. Mover brazitos separados por 4 veces"
      ],
      "metadata": {
        "id": "IaoSmoiUGJce"
      }
    },
    {
      "cell_type": "code",
      "source": [
        "def mover_brazitos (a):\n",
        "  for i in range (a):\n",
        "    print(\"Alzar brazo izquierdo\")\n",
        "    print(\"Alzar brazo derecho\")"
      ],
      "metadata": {
        "id": "eS-8P8yBGXUY"
      },
      "execution_count": 21,
      "outputs": []
    },
    {
      "cell_type": "code",
      "source": [
        "mover_brazitos(2)"
      ],
      "metadata": {
        "colab": {
          "base_uri": "https://localhost:8080/"
        },
        "id": "c87T9PYKFBRQ",
        "outputId": "326cc66f-3312-4b10-9b44-c783e9a367de"
      },
      "execution_count": 22,
      "outputs": [
        {
          "output_type": "stream",
          "name": "stdout",
          "text": [
            "Alzar brazo izquierdo\n",
            "Alzar brazo derecho\n",
            "Alzar brazo izquierdo\n",
            "Alzar brazo derecho\n"
          ]
        }
      ]
    },
    {
      "cell_type": "markdown",
      "source": [
        "3. Dar pequeños saltos 4 veces"
      ],
      "metadata": {
        "id": "TUKDYlEWHGYe"
      }
    },
    {
      "cell_type": "code",
      "source": [
        "def saltar(a,b):\n",
        " for j in range(a):\n",
        "  print(\"Poner los puños en la cintura\")\n",
        " for i in range(b):\n",
        "  print(\"Dar un pequeño salto\")"
      ],
      "metadata": {
        "id": "69zoe_rUHVGf"
      },
      "execution_count": 27,
      "outputs": []
    },
    {
      "cell_type": "code",
      "source": [
        "saltar(1,4)"
      ],
      "metadata": {
        "colab": {
          "base_uri": "https://localhost:8080/"
        },
        "id": "qpFs4D5CHx5L",
        "outputId": "06c82666-6445-4757-e85f-fa3ffda2ceff"
      },
      "execution_count": 28,
      "outputs": [
        {
          "output_type": "stream",
          "name": "stdout",
          "text": [
            "Poner los puños en la cintura\n",
            "Dar un pequeño salto\n",
            "Dar un pequeño salto\n",
            "Dar un pequeño salto\n",
            "Dar un pequeño salto\n"
          ]
        }
      ]
    },
    {
      "cell_type": "markdown",
      "source": [
        "4. Mover cintura"
      ],
      "metadata": {
        "id": "hS-flVZSH-uN"
      }
    },
    {
      "cell_type": "code",
      "source": [
        "def mover_cintura(a,b):\n",
        "  for i in range(a):\n",
        "    print(\"Levantar los bracos en V\")\n",
        "  for i in range (b):\n",
        "    print(\"Mover cadera a la izquierda\")\n",
        "    print(\"Mover cadera a la derecha\")"
      ],
      "metadata": {
        "id": "V0WumKIQIFzz"
      },
      "execution_count": 29,
      "outputs": []
    },
    {
      "cell_type": "code",
      "source": [
        "mover_cintura(1,2)"
      ],
      "metadata": {
        "colab": {
          "base_uri": "https://localhost:8080/"
        },
        "id": "bnw8-FkKIjk6",
        "outputId": "9e9f3a5e-8977-4112-f110-2554abd5cca1"
      },
      "execution_count": 30,
      "outputs": [
        {
          "output_type": "stream",
          "name": "stdout",
          "text": [
            "Levantar los bracos en V\n",
            "Mover cadera a la izquierda\n",
            "Mover cadera a la derecha\n",
            "Mover cadera a la izquierda\n",
            "Mover cadera a la derecha\n"
          ]
        }
      ]
    },
    {
      "cell_type": "markdown",
      "source": [
        "5. V con los brazos hacia abajo"
      ],
      "metadata": {
        "id": "aTdOJHt7Iv0E"
      }
    },
    {
      "cell_type": "code",
      "source": [
        "def brazos_abajo(a):\n",
        "  for i in range(a):\n",
        "    print(\"Bajar los brazos en V invertida\")"
      ],
      "metadata": {
        "id": "UZdJ97_wI7i2"
      },
      "execution_count": 31,
      "outputs": []
    },
    {
      "cell_type": "code",
      "source": [
        "brazos_abajo(1)"
      ],
      "metadata": {
        "colab": {
          "base_uri": "https://localhost:8080/"
        },
        "id": "SXfmsIDXJHfM",
        "outputId": "ad97240c-9d0d-4a32-8d90-2a719faaa46d"
      },
      "execution_count": 32,
      "outputs": [
        {
          "output_type": "stream",
          "name": "stdout",
          "text": [
            "Bajar los brazos en V invertida\n"
          ]
        }
      ]
    },
    {
      "cell_type": "markdown",
      "source": [
        "6. Sacudir brazitos"
      ],
      "metadata": {
        "id": "7Q8pODUnJKb4"
      }
    },
    {
      "cell_type": "code",
      "source": [
        "def sacudir_brazitos(a,b):\n",
        "  for i in range(b):\n",
        "    print(\"Poner brazito derecho a 90 grados \")\n",
        "    print(\"Poner brazito izquierdo a 90 grados\")\n",
        "  for i in range(a):\n",
        "     print(\"Sacudir brazitos de derecha a izquierda\")"
      ],
      "metadata": {
        "id": "GfNFAa0XJRp2"
      },
      "execution_count": 33,
      "outputs": []
    },
    {
      "cell_type": "code",
      "source": [
        "sacudir_brazitos(2,1)"
      ],
      "metadata": {
        "colab": {
          "base_uri": "https://localhost:8080/"
        },
        "id": "W_TcznvsJ93U",
        "outputId": "aa1f93aa-22b0-42ac-ca78-e6e55764dd89"
      },
      "execution_count": 34,
      "outputs": [
        {
          "output_type": "stream",
          "name": "stdout",
          "text": [
            "Poner brazito derecho a 90 grados \n",
            "Poner brazito izquierdo a 90 grados\n",
            "Sacudir brazitos de derecha a izquierda\n",
            "Sacudir brazitos de derecha a izquierda\n"
          ]
        }
      ]
    },
    {
      "cell_type": "markdown",
      "source": [
        "7. Posición de pato y mover colita"
      ],
      "metadata": {
        "id": "-LjbqdSkKIil"
      }
    },
    {
      "cell_type": "code",
      "source": [
        "def posicion_patito(a,b):\n",
        "  for i in range(a):\n",
        "    print(\"Separar pies y juntar rodillas\")\n",
        "  for i in range(b):\n",
        "    print(\"Mover colita a la derecha\")\n",
        "    print(\"Mover colita a la izquierda\")"
      ],
      "metadata": {
        "id": "Bb_w1A8wKXjj"
      },
      "execution_count": 35,
      "outputs": []
    },
    {
      "cell_type": "code",
      "source": [
        "posicion_patito(1,2)"
      ],
      "metadata": {
        "colab": {
          "base_uri": "https://localhost:8080/"
        },
        "id": "ljRFnQv_MOqX",
        "outputId": "f478274c-98d9-43f1-ebd3-b333032ca5b6"
      },
      "execution_count": 36,
      "outputs": [
        {
          "output_type": "stream",
          "name": "stdout",
          "text": [
            "Separar pies y juntar rodillas\n",
            "Mover colita a la derecha\n",
            "Mover colita a la izquierda\n",
            "Mover colita a la derecha\n",
            "Mover colita a la izquierda\n"
          ]
        }
      ]
    },
    {
      "cell_type": "markdown",
      "source": [
        "8. Deslizar cuerpo"
      ],
      "metadata": {
        "id": "X1cHDXrdMTZ-"
      }
    },
    {
      "cell_type": "code",
      "source": [
        "def deslizar_cuerpo(a,b):\n",
        "  for i in range(a):\n",
        "    print(\"Juntar piernas\")\n",
        "    print(\"Juntar brazos\")\n",
        "  for i in range(b):\n",
        "    print(\"Deslizar piernas hacia la izquierda\")\n",
        "    print(\"Mover brazos hacia la derecha\")\n",
        "    print(\"Deslizar piernas hacia la derecha\")\n",
        "    print(\"Mover brazos hacia la izquierda\")\n",
        "    print(\"Deslizar piernas hacia la izquierda\")\n",
        "    print(\"Mover brazos hacia la derecha\")"
      ],
      "metadata": {
        "id": "80pzXp4tMlEU"
      },
      "execution_count": 39,
      "outputs": []
    },
    {
      "cell_type": "code",
      "source": [
        "deslizar_cuerpo(1,1)"
      ],
      "metadata": {
        "colab": {
          "base_uri": "https://localhost:8080/"
        },
        "id": "e78L-Wy0NeKH",
        "outputId": "ec171eb7-92a2-49a1-befe-bf19a2375e40"
      },
      "execution_count": 40,
      "outputs": [
        {
          "output_type": "stream",
          "name": "stdout",
          "text": [
            "Juntar piernas\n",
            "Juntar brazos\n",
            "Deslizar piernas hacia la izquierda\n",
            "Mover brazos hacia la derecha\n",
            "Deslizar piernas hacia la derecha\n",
            "Mover brazos hacia la izquierda\n",
            "Deslizar piernas hacia la izquierda\n",
            "Mover brazos hacia la derecha\n"
          ]
        }
      ]
    },
    {
      "cell_type": "markdown",
      "source": [
        "9. Levantar piecito"
      ],
      "metadata": {
        "id": "CH702XztNpet"
      }
    },
    {
      "cell_type": "code",
      "source": [
        "def levantar_piecito(a,b):\n",
        " for i in range(b):\n",
        "  print (\"Poner los brazos al frente\")\n",
        " for i in range(a):\n",
        "  print(\"Girar brazos hacia la derecha\")\n",
        "  print(\"Levantar pierna derecha  hacia la izquierda\")\n",
        "  print(\"Girar brazos hacia la izquierda\")\n",
        "  print(\"Levantar pierna izquierda hacia la derecha\")"
      ],
      "metadata": {
        "id": "N45NReVvNsDA"
      },
      "execution_count": 41,
      "outputs": []
    },
    {
      "cell_type": "code",
      "source": [
        "levantar_piecito(1,1)"
      ],
      "metadata": {
        "colab": {
          "base_uri": "https://localhost:8080/"
        },
        "id": "r2aD_a0cOp_v",
        "outputId": "7b124627-00ca-4ff8-dcd3-601b8b72953f"
      },
      "execution_count": 42,
      "outputs": [
        {
          "output_type": "stream",
          "name": "stdout",
          "text": [
            "Poner los brazos al frente\n",
            "Girar brazos hacia la derecha\n",
            "Levantar pierna derecha  hacia la izquierda\n",
            "Girar brazos hacia la izquierda\n",
            "Levantar pierna izquierda hacia la derecha\n"
          ]
        }
      ]
    },
    {
      "cell_type": "markdown",
      "source": [
        "10. Pasito final"
      ],
      "metadata": {
        "id": "upoSM7I1Oyj_"
      }
    },
    {
      "cell_type": "code",
      "source": [
        "def pasito_final(a):\n",
        "  for i in range(a):\n",
        "    print(\"Tocar hombros con la mano contraria\")\n",
        "    print(\"Deslizar manitos sobre las mejillas\")\n",
        "    print(\"Poner brazo en la cintura, levantar el otro brazo y levantar la pierna hacia la contraria\")"
      ],
      "metadata": {
        "id": "oFmMUoDPO0Pt"
      },
      "execution_count": 43,
      "outputs": []
    },
    {
      "cell_type": "code",
      "source": [
        "pasito_final(1)"
      ],
      "metadata": {
        "colab": {
          "base_uri": "https://localhost:8080/"
        },
        "id": "WISKIVvfPcNY",
        "outputId": "4962ca2a-22b2-4bb8-dc5d-44f068c08c0f"
      },
      "execution_count": 44,
      "outputs": [
        {
          "output_type": "stream",
          "name": "stdout",
          "text": [
            "Tocar hombros con la mano contraria\n",
            "Deslizar manitos sobre las mejillas\n",
            "Poner brazo en la cintura, levantar el otro brazo y levantar la pierna hacia la contraria\n"
          ]
        }
      ]
    }
  ]
}