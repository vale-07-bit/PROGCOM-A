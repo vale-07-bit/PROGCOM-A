{
  "nbformat": 4,
  "nbformat_minor": 0,
  "metadata": {
    "colab": {
      "provenance": [],
      "authorship_tag": "ABX9TyNAj17TwT+lPeVKFY3RusuT",
      "include_colab_link": true
    },
    "kernelspec": {
      "name": "python3",
      "display_name": "Python 3"
    },
    "language_info": {
      "name": "python"
    }
  },
  "cells": [
    {
      "cell_type": "markdown",
      "metadata": {
        "id": "view-in-github",
        "colab_type": "text"
      },
      "source": [
        "<a href=\"https://colab.research.google.com/github/vale-07-bit/PROGCOM-A/blob/main/Clase_4_LISTAS.ipynb\" target=\"_parent\"><img src=\"https://colab.research.google.com/assets/colab-badge.svg\" alt=\"Open In Colab\"/></a>"
      ]
    },
    {
      "cell_type": "markdown",
      "source": [
        "#LISTAS\n",
        "1. Conjunto de datos\n",
        "2. Es mutable (500 xp)\n",
        "3. Tienen indexación, es decir la posición.\n",
        "\n"
      ],
      "metadata": {
        "id": "V01_4qJdD9y6"
      }
    },
    {
      "cell_type": "code",
      "source": [
        "lista=[\"maria\",4,True,\"hola\"]\n",
        "lista[0]"
      ],
      "metadata": {
        "colab": {
          "base_uri": "https://localhost:8080/",
          "height": 35
        },
        "id": "U7vemCJ_Er3a",
        "outputId": "dbfeb55d-19a6-4894-e803-631a9238ea75"
      },
      "execution_count": 4,
      "outputs": [
        {
          "output_type": "execute_result",
          "data": {
            "text/plain": [
              "'maria'"
            ],
            "application/vnd.google.colaboratory.intrinsic+json": {
              "type": "string"
            }
          },
          "metadata": {},
          "execution_count": 4
        }
      ]
    },
    {
      "cell_type": "markdown",
      "source": [
        "4. Son ordenadas\n",
        "forma genérica\n",
        "```\n",
        "nombre_de_la_lista=[e1,e2,e3]\n",
        "```\n",
        "\n"
      ],
      "metadata": {
        "id": "wG7pnHqXE7NZ"
      }
    },
    {
      "cell_type": "code",
      "source": [
        "#Obteniendo el último elemento de la lista\n",
        "lista[len(lista)-1]"
      ],
      "metadata": {
        "colab": {
          "base_uri": "https://localhost:8080/",
          "height": 35
        },
        "id": "lC2mRNEiF3Yx",
        "outputId": "74e6c312-d2c9-408a-ba48-302a31e36023"
      },
      "execution_count": 6,
      "outputs": [
        {
          "output_type": "execute_result",
          "data": {
            "text/plain": [
              "'hola'"
            ],
            "application/vnd.google.colaboratory.intrinsic+json": {
              "type": "string"
            }
          },
          "metadata": {},
          "execution_count": 6
        }
      ]
    },
    {
      "cell_type": "code",
      "source": [
        "lista[-1]"
      ],
      "metadata": {
        "colab": {
          "base_uri": "https://localhost:8080/",
          "height": 35
        },
        "id": "AnKt6piMF63J",
        "outputId": "e8bd436f-7518-4286-98ab-9e62393298e1"
      },
      "execution_count": 7,
      "outputs": [
        {
          "output_type": "execute_result",
          "data": {
            "text/plain": [
              "'hola'"
            ],
            "application/vnd.google.colaboratory.intrinsic+json": {
              "type": "string"
            }
          },
          "metadata": {},
          "execution_count": 7
        }
      ]
    },
    {
      "cell_type": "code",
      "source": [
        "#Cuando hay dos puntos significa que imprime la cantidad de datos pedidos\n",
        "#Es decir :2 , los dos primeros de la lista.\n",
        "lista[:2]"
      ],
      "metadata": {
        "colab": {
          "base_uri": "https://localhost:8080/"
        },
        "id": "ofEmDgNfGkCB",
        "outputId": "3c2be241-1d82-4464-a882-ab24b38fab47"
      },
      "execution_count": 8,
      "outputs": [
        {
          "output_type": "execute_result",
          "data": {
            "text/plain": [
              "['maria', 4]"
            ]
          },
          "metadata": {},
          "execution_count": 8
        }
      ]
    },
    {
      "cell_type": "code",
      "source": [
        "lista[:]"
      ],
      "metadata": {
        "colab": {
          "base_uri": "https://localhost:8080/"
        },
        "id": "f8ubcn8eHQpE",
        "outputId": "ecb37e93-4857-474a-b14d-8e3ce199be64"
      },
      "execution_count": 9,
      "outputs": [
        {
          "output_type": "execute_result",
          "data": {
            "text/plain": [
              "['maria', 4, True, 'hola']"
            ]
          },
          "metadata": {},
          "execution_count": 9
        }
      ]
    },
    {
      "cell_type": "code",
      "source": [
        "lista[2:]"
      ],
      "metadata": {
        "colab": {
          "base_uri": "https://localhost:8080/"
        },
        "id": "2caNSECrHiNI",
        "outputId": "b2c52a8f-ef1e-4c68-d9eb-04dcc9c651ab"
      },
      "execution_count": 11,
      "outputs": [
        {
          "output_type": "execute_result",
          "data": {
            "text/plain": [
              "[True, 'hola']"
            ]
          },
          "metadata": {},
          "execution_count": 11
        }
      ]
    },
    {
      "cell_type": "code",
      "source": [
        "for i in lista:\n",
        "  #Va a iterar 4 veces\n",
        "  #i va a tomar por vez el elemento de la lista\n",
        "  print(i)"
      ],
      "metadata": {
        "colab": {
          "base_uri": "https://localhost:8080/"
        },
        "id": "oxmkNyH4IGO5",
        "outputId": "6f52a9c9-6d3e-47db-a5fe-c7db311a1ac8"
      },
      "execution_count": 13,
      "outputs": [
        {
          "output_type": "stream",
          "name": "stdout",
          "text": [
            "maria\n",
            "4\n",
            "True\n",
            "hola\n"
          ]
        }
      ]
    },
    {
      "cell_type": "code",
      "source": [
        "#Listas por extensión:\n",
        "num=[1,2,3,4,5,6,7,8,9,10]\n",
        "#Listas por extensión:\n",
        "num2=list(range(1,11))\n",
        "print(num2)"
      ],
      "metadata": {
        "colab": {
          "base_uri": "https://localhost:8080/"
        },
        "id": "mARoJqcPJHU5",
        "outputId": "67787c22-d751-4056-e3ff-1d49e88de182"
      },
      "execution_count": 15,
      "outputs": [
        {
          "output_type": "stream",
          "name": "stdout",
          "text": [
            "[1, 2, 3, 4, 5, 6, 7, 8, 9, 10]\n"
          ]
        }
      ]
    },
    {
      "cell_type": "markdown",
      "source": [
        "##Listas por comprensión\n",
        "Forma nueva de generar listas a partir de una expresión.\n",
        "Sintaxis:\n",
        "```\n",
        "nombre_lista=[expresión for item in interable if condición]\n",
        "```\n",
        "Donde:\n",
        "- Expresión: es el valor que generará la nueva lista.\n",
        "- item:variable que representa cada elemento dentro de la iteración.\n",
        "- Iterable:es cuantos elementos va a tener la nueva lista.\n",
        "- Condición: es opcional y se emplea si los elementos debem cumplir algo.\n",
        "\n"
      ],
      "metadata": {
        "id": "9qcL7_-tJNKA"
      }
    },
    {
      "cell_type": "code",
      "source": [
        "#Covertir una lista de oraciones en una lista de palabras\n",
        "oraciones=[\"Aquí va una oración\",\"Aquí va otra oración\",\"Aquí va la tercera oración\"]\n",
        "palabras=[i.split() for i in oraciones]\n",
        "palabras"
      ],
      "metadata": {
        "colab": {
          "base_uri": "https://localhost:8080/"
        },
        "id": "UNwz0entJWf4",
        "outputId": "05f160c7-a413-4226-b847-39a36a54bdb3"
      },
      "execution_count": 18,
      "outputs": [
        {
          "output_type": "execute_result",
          "data": {
            "text/plain": [
              "[['Aquí', 'va', 'una', 'oración'],\n",
              " ['Aquí', 'va', 'otra', 'oración'],\n",
              " ['Aquí', 'va', 'la', 'tercera', 'oración']]"
            ]
          },
          "metadata": {},
          "execution_count": 18
        }
      ]
    },
    {
      "cell_type": "code",
      "source": [
        "#Lista con los pares de num2\n",
        "pares=[num for num in num2 if num%3==0]\n",
        "pares"
      ],
      "metadata": {
        "colab": {
          "base_uri": "https://localhost:8080/"
        },
        "id": "heJedWQYLvmX",
        "outputId": "fc93edfb-c2b9-4e30-ffb8-409247b0f2a6"
      },
      "execution_count": 22,
      "outputs": [
        {
          "output_type": "execute_result",
          "data": {
            "text/plain": [
              "[3, 6, 9]"
            ]
          },
          "metadata": {},
          "execution_count": 22
        }
      ]
    },
    {
      "cell_type": "code",
      "source": [
        "#Clasificar si un número es positivo o negativo\n",
        "numeros=[1,4,6,-20,-2,-69,4]\n",
        "lista2=[(n,\"positivo\") if n>0 else (n, \"negativo\") for n in numeros]\n",
        "lista2"
      ],
      "metadata": {
        "colab": {
          "base_uri": "https://localhost:8080/"
        },
        "id": "3eqf0y-AMuEA",
        "outputId": "34ac0e7a-4309-463d-b36b-5e3f48385f99"
      },
      "execution_count": 28,
      "outputs": [
        {
          "output_type": "execute_result",
          "data": {
            "text/plain": [
              "[(1, 'positivo'),\n",
              " (4, 'positivo'),\n",
              " (6, 'positivo'),\n",
              " (-20, 'negativo'),\n",
              " (-2, 'negativo'),\n",
              " (-69, 'negativo'),\n",
              " (4, 'positivo')]"
            ]
          },
          "metadata": {},
          "execution_count": 28
        }
      ]
    },
    {
      "cell_type": "code",
      "source": [
        "temperaturas=[]\n",
        "for i in range (10):\n",
        "    temperatura=int(input(\"Ingrese la temperatura en Celsius: \"))\n",
        "    temperaturas.append(temperatura)\n",
        "lista3=[(a,\"frío\") if a<20 else (\"templado\" if 20 <= a <= 26 else \"caliente\") for a in temperaturas]\n",
        "print(lista3)"
      ],
      "metadata": {
        "colab": {
          "base_uri": "https://localhost:8080/"
        },
        "id": "rqXhDd6HP_jW",
        "outputId": "51bc274f-fb9b-4975-95f1-9ea4f49977f6"
      },
      "execution_count": 37,
      "outputs": [
        {
          "output_type": "stream",
          "name": "stdout",
          "text": [
            "Ingrese la temperatura en Celsius: 1\n",
            "Ingrese la temperatura en Celsius: 2\n",
            "Ingrese la temperatura en Celsius: 3\n",
            "Ingrese la temperatura en Celsius: 4\n",
            "Ingrese la temperatura en Celsius: 56\n",
            "Ingrese la temperatura en Celsius: 54\n",
            "Ingrese la temperatura en Celsius: 21\n",
            "Ingrese la temperatura en Celsius: 10\n",
            "Ingrese la temperatura en Celsius: 8\n",
            "Ingrese la temperatura en Celsius: 32\n",
            "[(1, 'frío'), (2, 'frío'), (3, 'frío'), (4, 'frío'), 'caliente', 'caliente', 'templado', (10, 'frío'), (8, 'frío'), 'caliente']\n"
          ]
        }
      ]
    },
    {
      "cell_type": "code",
      "source": [
        "#Quiero obtener la inicial de nombres y ponerlo en mayúscula\n",
        "nombres=[\"valery\", \"ana\",\"sofia\"]\n",
        "lista4=[x[0].upper() for x in nombres]\n",
        "lista4"
      ],
      "metadata": {
        "colab": {
          "base_uri": "https://localhost:8080/"
        },
        "id": "W-OMAzqsRrFn",
        "outputId": "71b11871-d1ab-4353-934a-dbb76b002229"
      },
      "execution_count": 41,
      "outputs": [
        {
          "output_type": "execute_result",
          "data": {
            "text/plain": [
              "['V', 'A', 'S']"
            ]
          },
          "metadata": {},
          "execution_count": 41
        }
      ]
    }
  ]
}