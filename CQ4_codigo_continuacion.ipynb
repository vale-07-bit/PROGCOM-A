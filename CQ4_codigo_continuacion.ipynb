{
  "cells": [
    {
      "cell_type": "markdown",
      "metadata": {
        "id": "view-in-github",
        "colab_type": "text"
      },
      "source": [
        "<a href=\"https://colab.research.google.com/github/vale-07-bit/PROGCOM-A/blob/main/CQ4_codigo_continuacion.ipynb\" target=\"_parent\"><img src=\"https://colab.research.google.com/assets/colab-badge.svg\" alt=\"Open In Colab\"/></a>"
      ]
    },
    {
      "cell_type": "code",
      "source": [
        "#MAIN(PRINCIPAL)\n",
        "from tkinter import *\n",
        "import configuraciones\n",
        "import utilidades\n",
        "\n",
        "ventana = Tk()\n",
        "#Anular la configuración de la ventana\n",
        "ventana.configure(bg=\"black\")\n",
        "ventana.geometry(f'{configuraciones.WIDTH}x[configuraciones.HEIGHT]')\n",
        "ventana.title('Juego de buscaminas')\n",
        "ventana.resizable(False, False)\n",
        "\n",
        "marco_superior = Frame(\n",
        "    ventana,\n",
        "    bg='black',\n",
        "    width=configuraciones.WIDTH,\n",
        "    height=utilidades.altura_prct(25)\n",
        ")\n",
        "marco_superior.place(x=0, y=0)\n",
        "\n",
        "marco_izquierdo = Frame(\n",
        "    ventana,\n",
        "    bg='black',\n",
        "    width=utilidades.width_prct(25),\n",
        "    height=utilidades.altura_prct(75)\n",
        ")\n",
        "marco_izquierdo.place(x=0, y=utilidades.altura_prct(25))\n",
        "\n",
        "marco_central = Frame(\n",
        "    ventana,\n",
        "    bg=utilidades.width_prct(75),\n",
        "    height=utilidades.altura_prct(75)\n",
        ")\n",
        "marco_central.place(\n",
        "    x=utilidades.width_prct(25),\n",
        "    y=utilidades.altura_prct(25)\n",
        ")\n",
        "\n",
        "btn1 = _Button(\n",
        "    center_frame,\n",
        "    bg='blue',\n",
        "    text='First Button'\n",
        "\n",
        ")\n",
        "btn1.place(x=0, y=0)\n",
        "\n",
        "#Run the window\n",
        "root.mainloop()"
      ],
      "metadata": {
        "id": "ERvkJ-1O63Df"
      },
      "execution_count": null,
      "outputs": []
    },
    {
      "cell_type": "code",
      "source": [
        "#BUTTON EXAMPLE (EJEMPLO DE BOTÓN)\n",
        "btn1 = _Button(\n",
        "    marco_central,\n",
        "    bg='blue',\n",
        "    texto='First Button'\n"
      ],
      "metadata": {
        "id": "BR7FOYxM6ozv"
      },
      "execution_count": null,
      "outputs": []
    },
    {
      "cell_type": "code",
      "source": [
        "#MAIN(PRINCIPAL)\n",
        "import tkinter as tk\n",
        "from celda import Celda\n",
        "\n",
        "def crear_cuadricula(tamaño):\n",
        "    for columna in range(tamaño):\n",
        "        for fila in range(tamaño):\n",
        "            celda = Celda(columna, fila)\n",
        "            celda.crear_boton(marco)\n",
        "\n",
        "# Configuración de la ventana\n",
        "ventana = tk.Tk()\n",
        "ventana.title(\"Juego de Celdas\")\n",
        "marco = tk.Frame(ventana)\n",
        "marco.pack()\n",
        "\n",
        "# Crear una cuadrícula de 5x5\n",
        "crear_cuadricula(5)\n",
        "\n",
        "ventana.mainloop()"
      ],
      "metadata": {
        "id": "dtISW-6C6r0u"
      },
      "execution_count": null,
      "outputs": []
    },
    {
      "cell_type": "code",
      "source": [
        "#\n",
        "class Celdas:\n",
        "  def __init__(self, is_mine=False):\n",
        "    self.is_mine = is_mine"
      ],
      "metadata": {
        "id": "b3lzTdIH6uFe"
      },
      "execution_count": null,
      "outputs": []
    },
    {
      "cell_type": "code",
      "source": [
        "#CLASE QUE REPRESENTA UNA CELDA\n",
        "import tkinter as tk  # Librería para interfaces gráficas\n",
        "\n",
        "class Celda:  # Clase que representa una celda\n",
        "    todas = []  # Lista que guarda todas las celdas\n",
        "\n",
        "    def __init__(self, columna, fila):\n",
        "        self.columna = columna  # Posición horizontal\n",
        "        self.fila = fila        # Posición vertical\n",
        "        self.es_mina = False    # Indica si hay una mina\n",
        "        self.boton = None       # Botón gráfico asociado\n",
        "        Celda.todas.append(self)\n",
        "\n",
        "    def crear_boton(self, marco):  # Crea el botón en la interfaz\n",
        "        self.boton = tk.Button(marco, width=6, height=2)\n",
        "        self.boton.grid(row=self.fila, column=self.columna)\n",
        "        self.boton.bind('<Button-1>', self.clic_izquierdo)\n",
        "        self.boton.bind('<Button-3>', self.clic_derecho)\n",
        "\n",
        "    def clic_izquierdo(self, evento):  # Acción al hacer clic izquierdo\n",
        "        if self.es_mina:\n",
        "            self.boton.config(bg='red')  # Fondo rojo si hay mina\n",
        "        else:\n",
        "            self.boton.config(bg='green')  # Fondo verde si no hay mina\n",
        "\n",
        "    def clic_derecho(self, evento):  # Acción al hacer clic derecho\n",
        "        self.boton.config(text='⚑')  # Marca con una bandera"
      ],
      "metadata": {
        "id": "rMB64-0x6wHf"
      },
      "execution_count": null,
      "outputs": []
    }
  ],
  "metadata": {
    "colab": {
      "provenance": [],
      "include_colab_link": true
    },
    "kernelspec": {
      "display_name": "Python 3",
      "name": "python3"
    }
  },
  "nbformat": 4,
  "nbformat_minor": 0
}