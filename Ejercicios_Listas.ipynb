{
  "nbformat": 4,
  "nbformat_minor": 0,
  "metadata": {
    "colab": {
      "provenance": [],
      "authorship_tag": "ABX9TyOHk2eGWkZf47v2+vS3RzcM",
      "include_colab_link": true
    },
    "kernelspec": {
      "name": "python3",
      "display_name": "Python 3"
    },
    "language_info": {
      "name": "python"
    }
  },
  "cells": [
    {
      "cell_type": "markdown",
      "metadata": {
        "id": "view-in-github",
        "colab_type": "text"
      },
      "source": [
        "<a href=\"https://colab.research.google.com/github/vale-07-bit/PROGCOM-A/blob/main/Ejercicios_Listas.ipynb\" target=\"_parent\"><img src=\"https://colab.research.google.com/assets/colab-badge.svg\" alt=\"Open In Colab\"/></a>"
      ]
    },
    {
      "cell_type": "markdown",
      "source": [
        "1. Crear una lista con los cuadrados de los números del 1 al 10."
      ],
      "metadata": {
        "id": "imzV2nI7w8fI"
      }
    },
    {
      "cell_type": "code",
      "source": [
        "cuadrados=[i**2 for i in range(1,10)]\n",
        "cuadrados"
      ],
      "metadata": {
        "colab": {
          "base_uri": "https://localhost:8080/"
        },
        "id": "YbLE0vnSzMXn",
        "outputId": "5e145169-61cc-4ac3-b53b-741beb165ceb"
      },
      "execution_count": 18,
      "outputs": [
        {
          "output_type": "execute_result",
          "data": {
            "text/plain": [
              "[1, 4, 9, 16, 25, 36, 49, 64, 81]"
            ]
          },
          "metadata": {},
          "execution_count": 18
        }
      ]
    },
    {
      "cell_type": "markdown",
      "source": [
        "2. Obtener una lista con los números pares del 0 al 20."
      ],
      "metadata": {
        "id": "X2uD-JWGw6eF"
      }
    },
    {
      "cell_type": "code",
      "source": [
        "par=[i for i in range(20) if i%2==0]\n",
        "par"
      ],
      "metadata": {
        "colab": {
          "base_uri": "https://localhost:8080/"
        },
        "id": "3mwVxxHNx5M-",
        "outputId": "e2e61704-3a70-4e16-b252-00c5a6cfd2ae"
      },
      "execution_count": 15,
      "outputs": [
        {
          "output_type": "execute_result",
          "data": {
            "text/plain": [
              "[0, 2, 4, 6, 8, 10, 12, 14, 16, 18]"
            ]
          },
          "metadata": {},
          "execution_count": 15
        }
      ]
    },
    {
      "cell_type": "markdown",
      "source": [
        "3. Crear una lista con el doble de cada número del 1 al 5."
      ],
      "metadata": {
        "id": "BRHcniyCw4c0"
      }
    },
    {
      "cell_type": "code",
      "source": [
        "dobles=[i*2 for i in range(1,6)]\n",
        "dobles"
      ],
      "metadata": {
        "colab": {
          "base_uri": "https://localhost:8080/"
        },
        "id": "3Eu65IYww9R_",
        "outputId": "01b0ebbe-c2b6-4361-d8ff-7ba2f3290a3e"
      },
      "execution_count": 19,
      "outputs": [
        {
          "output_type": "execute_result",
          "data": {
            "text/plain": [
              "[2, 4, 6, 8, 10]"
            ]
          },
          "metadata": {},
          "execution_count": 19
        }
      ]
    },
    {
      "cell_type": "markdown",
      "source": [
        "4. De la palabra \"programacion\", obtener solo las vocales.\n"
      ],
      "metadata": {
        "id": "3NaTCn73w15t"
      }
    },
    {
      "cell_type": "code",
      "source": [
        "palabra=\"programación\"\n",
        "vocales=[i for i in palabra if i in \"aeiouáéíóú\"]\n",
        "vocales"
      ],
      "metadata": {
        "colab": {
          "base_uri": "https://localhost:8080/"
        },
        "id": "UCH32ohAzfpB",
        "outputId": "f4b72a9a-7132-47c7-fff0-6d1484a65d49"
      },
      "execution_count": 23,
      "outputs": [
        {
          "output_type": "execute_result",
          "data": {
            "text/plain": [
              "['o', 'a', 'a', 'i', 'ó']"
            ]
          },
          "metadata": {},
          "execution_count": 23
        }
      ]
    },
    {
      "cell_type": "markdown",
      "source": [
        "5. Dada la lista [\"python\", \"java\", \"c++\"], obtener otra lista con las palabras en mayúsculas."
      ],
      "metadata": {
        "id": "7RMTjtnnwzId"
      }
    },
    {
      "cell_type": "code",
      "source": [
        "lista=[\"python\", \"java\", \"c++\"]\n",
        "mayuscula=[i.upper() for i in lista]\n",
        "mayuscula"
      ],
      "metadata": {
        "colab": {
          "base_uri": "https://localhost:8080/"
        },
        "id": "wy2ocef80wz8",
        "outputId": "21b6d859-0ac9-465d-db56-5412e358c43d"
      },
      "execution_count": 24,
      "outputs": [
        {
          "output_type": "execute_result",
          "data": {
            "text/plain": [
              "['PYTHON', 'JAVA', 'C++']"
            ]
          },
          "metadata": {},
          "execution_count": 24
        }
      ]
    },
    {
      "cell_type": "markdown",
      "source": [
        "6. Crear una lista con \"par\" o \"impar\" para los números del 1 al 10."
      ],
      "metadata": {
        "id": "7eOZaWojwxRI"
      }
    },
    {
      "cell_type": "code",
      "source": [
        "par=[i for i in range(1,11) if i%2==0]\n",
        "print(par)\n",
        "impar=[i for i in range(1,10) if i%2!=0]\n",
        "print(impar)"
      ],
      "metadata": {
        "colab": {
          "base_uri": "https://localhost:8080/"
        },
        "id": "Y6SG9cNI1EbP",
        "outputId": "3d854ba1-a726-4806-e99b-79447c4b5b17"
      },
      "execution_count": 30,
      "outputs": [
        {
          "output_type": "stream",
          "name": "stdout",
          "text": [
            "[2, 4, 6, 8, 10]\n",
            "[1, 3, 5, 7, 9]\n"
          ]
        }
      ]
    },
    {
      "cell_type": "markdown",
      "source": [
        "7. Generar una lista de tuplas con el número y su cuadrado del 1 al 5"
      ],
      "metadata": {
        "id": "m-MKAi4jwu_m"
      }
    },
    {
      "cell_type": "code",
      "source": [
        "tuplas=[(i,i**2) for i in range(1,6)]\n",
        "print(tuplas)"
      ],
      "metadata": {
        "colab": {
          "base_uri": "https://localhost:8080/"
        },
        "id": "Zr7bl17B1vS9",
        "outputId": "31c6acc4-361b-40c2-b6d3-9a4fbb7377f0"
      },
      "execution_count": 34,
      "outputs": [
        {
          "output_type": "stream",
          "name": "stdout",
          "text": [
            "[(1, 1), (2, 4), (3, 9), (4, 16), (5, 25)]\n"
          ]
        }
      ]
    },
    {
      "cell_type": "markdown",
      "source": [
        "8. Crear una lista con todas las combinaciones de letras en [\"a\",\"b\"] y números en [1,2,3]."
      ],
      "metadata": {
        "id": "xtvdCrIhwseE"
      }
    },
    {
      "cell_type": "code",
      "source": [
        "letras=[\"a\",\"b\"]\n",
        "numeros=[1,2,3]\n",
        "combinaciones=[(letra, numero) for letra in letras for numero in numeros]\n",
        "print(combinaciones)"
      ],
      "metadata": {
        "colab": {
          "base_uri": "https://localhost:8080/"
        },
        "id": "I7sJoHUB2ON0",
        "outputId": "2e12dfc5-a704-419c-dcf4-fb2f74691a14"
      },
      "execution_count": 40,
      "outputs": [
        {
          "output_type": "stream",
          "name": "stdout",
          "text": [
            "[('a', 1), ('a', 2), ('a', 3), ('b', 1), ('b', 2), ('b', 3)]\n"
          ]
        }
      ]
    },
    {
      "cell_type": "markdown",
      "source": [
        "9. De la lista [\"sol\", \"estrella\", \"mar\", \"planeta\"], obtener solo las palabras con más de 4 letras."
      ],
      "metadata": {
        "id": "GsERuzvtwpqR"
      }
    },
    {
      "cell_type": "code",
      "source": [
        "cosmos=[\"sol\", \"estrella\", \"mar\", \"planeta\"]\n",
        "listap = [i for i in cosmos if len(i) > 4]\n",
        "listap"
      ],
      "metadata": {
        "colab": {
          "base_uri": "https://localhost:8080/"
        },
        "id": "qMS6FwSJ3N0t",
        "outputId": "2eda208a-e0a6-4da9-f84b-0f5381334984"
      },
      "execution_count": 41,
      "outputs": [
        {
          "output_type": "execute_result",
          "data": {
            "text/plain": [
              "['estrella', 'planeta']"
            ]
          },
          "metadata": {},
          "execution_count": 41
        }
      ]
    },
    {
      "cell_type": "markdown",
      "source": [
        "\n",
        "10. Clasificar la temperatura de una lista. Si la temperatura es menor a 26, el clima es \"frío\". Si está entre 26 a 29, es \"templado\". Si es mayor a 29, el clima es \"caliente\""
      ],
      "metadata": {
        "id": "sInYDHrBwKO3"
      }
    },
    {
      "cell_type": "code",
      "execution_count": 46,
      "metadata": {
        "colab": {
          "base_uri": "https://localhost:8080/"
        },
        "id": "3WmpkGhPwENo",
        "outputId": "330a7fc6-7f8f-40fd-f71d-8c8137c542dc"
      },
      "outputs": [
        {
          "output_type": "stream",
          "name": "stdout",
          "text": [
            "[(8, 'frío'), (20, 'frío'), (34, 'caliente'), (38, 'caliente'), (9, 'frío'), (13, 'frío'), (31, 'caliente'), (27, 'templado'), (26, 'templado'), (7, 'frío')]\n"
          ]
        }
      ],
      "source": [
        "temperaturas=[8,20,34,38,9,13,31,27,26,7]\n",
        "lista3=[(i,\"frío\") if i<26 else (i,\"templado\" if 26 <= i <= 29 else \"caliente\") for i in temperaturas]\n",
        "print(lista3)"
      ]
    }
  ]
}