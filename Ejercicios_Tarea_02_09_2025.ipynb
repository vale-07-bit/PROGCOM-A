{
  "nbformat": 4,
  "nbformat_minor": 0,
  "metadata": {
    "colab": {
      "provenance": [],
      "authorship_tag": "ABX9TyPv95lhoj3EdUNEQWRIVc4z",
      "include_colab_link": true
    },
    "kernelspec": {
      "name": "python3",
      "display_name": "Python 3"
    },
    "language_info": {
      "name": "python"
    }
  },
  "cells": [
    {
      "cell_type": "markdown",
      "metadata": {
        "id": "view-in-github",
        "colab_type": "text"
      },
      "source": [
        "<a href=\"https://colab.research.google.com/github/vale-07-bit/PROGCOM-A/blob/main/Ejercicios_Tarea_02_09_2025.ipynb\" target=\"_parent\"><img src=\"https://colab.research.google.com/assets/colab-badge.svg\" alt=\"Open In Colab\"/></a>"
      ]
    },
    {
      "cell_type": "markdown",
      "source": [
        "#Funciones y Tipos de Datos (20 ejercicios)\n",
        "1. Crea una función que reciba un número y retorne su cuadrado.\n"
      ],
      "metadata": {
        "id": "UH75w3YDMu2i"
      }
    },
    {
      "cell_type": "code",
      "source": [
        "cuadrado= lambda n:n**2"
      ],
      "metadata": {
        "id": "e2rdhmiGMy7c"
      },
      "execution_count": null,
      "outputs": []
    },
    {
      "cell_type": "code",
      "source": [
        "cuadrado(3)"
      ],
      "metadata": {
        "colab": {
          "base_uri": "https://localhost:8080/"
        },
        "id": "RU7X_zEMNF56",
        "outputId": "6fc5570f-f17f-453f-a367-d08bc004ba12"
      },
      "execution_count": null,
      "outputs": [
        {
          "output_type": "execute_result",
          "data": {
            "text/plain": [
              "9"
            ]
          },
          "metadata": {},
          "execution_count": 2
        }
      ]
    },
    {
      "cell_type": "code",
      "source": [
        "n= int(input(\"Ingrese un número \"))\n",
        "print(n**2)"
      ],
      "metadata": {
        "colab": {
          "base_uri": "https://localhost:8080/"
        },
        "id": "Pojp1dxIPt8y",
        "outputId": "c8a7c68c-fe7a-4830-b3e6-644ddf4b05df"
      },
      "execution_count": 2,
      "outputs": [
        {
          "output_type": "stream",
          "name": "stdout",
          "text": [
            "Ingrese un número4\n",
            "16\n"
          ]
        }
      ]
    },
    {
      "cell_type": "markdown",
      "source": [
        "2. Crea una función que reciba un nombre y retorne un saludo personalizado (ese saludo debe ser aleatorio. Para ello, genere al menos 20 saludos)."
      ],
      "metadata": {
        "id": "9hPM9PuFNMyl"
      }
    },
    {
      "cell_type": "code",
      "source": [
        "import random\n",
        "saludos= [\n",
        "    \"¡Hola {}!\",\n",
        "    \"¡Hey {}, , qué gusto verte!\",\n",
        "    \"¡Buenas {}, ¿cómo estás?\",\n",
        "    \"¡{}, bienvenido!\",\n",
        "    \"¡Qué tal {}!\",\n",
        "    \"¡{}, me alegra verte por aquí!\",\n",
        "    \"¡{}, espero que estés muy bien!\",\n",
        "    \"¡Saludos {}!\",\n",
        "    \"¡{}, qué más!\",\n",
        "    \"¡{}, cuánto tiempo sin verte!\",\n",
        "    \"¡{}, espero que estés teniendo un bonito día!\",\n",
        "    \"¡{}, siempre es un gusto saludarte!\",\n",
        "    \"¡{}, qué sorpresa!\",\n",
        "    \"¡{}, bienvenido de nuevo!\",\n",
        "    \"¡{}, espero que hoy te vaya increíble!\",\n",
        "    \"¡{}, me alegra mucho encontrarte!\",\n",
        "    \"¡{}, cómo va todo?\",\n",
        "    \"¡{}, que la pases genial!\",\n",
        "    \"¡{}, empieza el día con energía!\",\n",
        "    \"¡{}, es agradable verte otra vez!\"]\n",
        "saludar = lambda N: random.choice(saludos). format(N)"
      ],
      "metadata": {
        "id": "eDaLTPBGSfmD"
      },
      "execution_count": 46,
      "outputs": []
    },
    {
      "cell_type": "code",
      "source": [
        "print(saludar(\"Valery\"))"
      ],
      "metadata": {
        "colab": {
          "base_uri": "https://localhost:8080/"
        },
        "id": "fLIFGX4UTzP0",
        "outputId": "c125ee1a-fc64-459f-f4a8-c6fd846c11d2"
      },
      "execution_count": 47,
      "outputs": [
        {
          "output_type": "stream",
          "name": "stdout",
          "text": [
            "¡Saludos Valery!\n"
          ]
        }
      ]
    },
    {
      "cell_type": "code",
      "source": [
        "import random\n",
        "saludos= [\n",
        "    \"¡Hola {}!\",\n",
        "    \"¡Hey {}, , qué gusto verte!\",\n",
        "    \"¡Buenas {}, ¿cómo estás?\",\n",
        "    \"¡{}, bienvenido!\",\n",
        "    \"¡Qué tal {}!\",\n",
        "    \"¡{}, me alegra verte por aquí!\",\n",
        "    \"¡{}, espero que estés muy bien!\",\n",
        "    \"¡Saludos {}!\",\n",
        "    \"¡{}, qué más!\",\n",
        "    \"¡{}, cuánto tiempo sin verte!\",\n",
        "    \"¡{}, espero que estés teniendo un bonito día!\",\n",
        "    \"¡{}, siempre es un gusto saludarte!\",\n",
        "    \"¡{}, qué sorpresa!\",\n",
        "    \"¡{}, bienvenido de nuevo!\",\n",
        "    \"¡{}, espero que hoy te vaya increíble!\",\n",
        "    \"¡{}, me alegra mucho encontrarte!\",\n",
        "    \"¡{}, cómo va todo?\",\n",
        "    \"¡{}, que la pases genial!\",\n",
        "    \"¡{}, empieza el día con energía!\",\n",
        "    \"¡{}, es agradable verte otra vez!\"]\n",
        "nombre= input(\"Ingrese su nombre \")\n",
        "print( random.choice(saludos). format(nombre))"
      ],
      "metadata": {
        "colab": {
          "base_uri": "https://localhost:8080/"
        },
        "id": "z7WAJZsOVP2P",
        "outputId": "f1a2fa9e-c7d8-4c07-880a-5c7b81645fbd"
      },
      "execution_count": 52,
      "outputs": [
        {
          "output_type": "stream",
          "name": "stdout",
          "text": [
            "Ingrese su nombre Valery\n",
            "¡Valery, cuánto tiempo sin verte!\n"
          ]
        }
      ]
    },
    {
      "cell_type": "markdown",
      "source": [
        "3.\tCrea una función que reciba dos números y retorne su suma, resta, multiplicación y división."
      ],
      "metadata": {
        "id": "MDKy5gbINp4i"
      }
    },
    {
      "cell_type": "code",
      "source": [
        "operacion= lambda a,b: f\"La suma es: {a+b}\\nLa resta es: {a-b}\\nLa multiplicación es: {a*b}\\nLa división es: {a/b}\""
      ],
      "metadata": {
        "id": "r8pESTYxNrPo"
      },
      "execution_count": 18,
      "outputs": []
    },
    {
      "cell_type": "code",
      "source": [
        "print(operacion(4,5))"
      ],
      "metadata": {
        "colab": {
          "base_uri": "https://localhost:8080/"
        },
        "id": "Dz3KQObUOP_4",
        "outputId": "9655fa8d-afe4-4d92-8d08-3cb7508554f4"
      },
      "execution_count": 19,
      "outputs": [
        {
          "output_type": "stream",
          "name": "stdout",
          "text": [
            "La suma es: 9\n",
            "La resta es: -1\n",
            "La multiplicación es: 20\n",
            "La división es: 0.8\n"
          ]
        }
      ]
    },
    {
      "cell_type": "code",
      "source": [
        "m=int(input(\"Ingrese un número \"))\n",
        "o=int(input(\"Ingrese un número \"))\n",
        "print(\"La suma es igual a :\", m+o)\n",
        "print(\"La resta es igual a:\", m+o)\n",
        "print(\"La multiplicaión es igual a:\", m*o)\n",
        "print(\"La división es igual a:\", m/o)"
      ],
      "metadata": {
        "colab": {
          "base_uri": "https://localhost:8080/"
        },
        "id": "iXepmEVAQBzh",
        "outputId": "3e0c39f3-56e4-4769-b6fe-210bdd4b37dd"
      },
      "execution_count": 55,
      "outputs": [
        {
          "output_type": "stream",
          "name": "stdout",
          "text": [
            "Ingrese un número 4\n",
            "Ingrese un número 2\n",
            "La suma es igual a : 6\n",
            "La resta es igual a: 6\n",
            "La multiplicaión es igual a: 8\n",
            "La división es igual a: 2.0\n"
          ]
        }
      ]
    },
    {
      "cell_type": "markdown",
      "source": [
        "4.\tCrea una función que reciba una edad y retorne si es mayor de edad."
      ],
      "metadata": {
        "id": "0EoCEr8IPjWx"
      }
    },
    {
      "cell_type": "code",
      "source": [
        "edad= lambda e:\"Es mayor de edad\" if e>=18 else \"Es menor de edad\""
      ],
      "metadata": {
        "id": "BIrDEXZuPik1"
      },
      "execution_count": null,
      "outputs": []
    },
    {
      "cell_type": "code",
      "source": [
        "edad(14)"
      ],
      "metadata": {
        "colab": {
          "base_uri": "https://localhost:8080/",
          "height": 35
        },
        "id": "6idU1AUgQKon",
        "outputId": "5ea88306-10e9-4d87-c3a1-e48d577c4ee1"
      },
      "execution_count": null,
      "outputs": [
        {
          "output_type": "execute_result",
          "data": {
            "text/plain": [
              "'Es menor de edad'"
            ],
            "application/vnd.google.colaboratory.intrinsic+json": {
              "type": "string"
            }
          },
          "metadata": {},
          "execution_count": 38
        }
      ]
    },
    {
      "cell_type": "code",
      "source": [
        "E=int(input(\"Digite su edad \"))\n",
        "if E >= 18:\n",
        " print(\"Es mayor de edad\")\n",
        "else:\n",
        " print(\"Es menor de edad\")"
      ],
      "metadata": {
        "colab": {
          "base_uri": "https://localhost:8080/"
        },
        "id": "QD7xbvCHRW0T",
        "outputId": "d49798e2-01f9-412a-e29d-9fd04f41ad3b"
      },
      "execution_count": 16,
      "outputs": [
        {
          "output_type": "stream",
          "name": "stdout",
          "text": [
            "Digite su edad 23\n",
            "Es mayor de edad\n"
          ]
        }
      ]
    },
    {
      "cell_type": "markdown",
      "source": [
        "5.\tCrea una función que reciba una palabra y determine si es un palíndromo."
      ],
      "metadata": {
        "id": "N04onlJTQQb4"
      }
    },
    {
      "cell_type": "code",
      "source": [
        "palindromo= lambda palabra:"
      ],
      "metadata": {
        "id": "rbGN_2_aUgeF"
      },
      "execution_count": null,
      "outputs": []
    },
    {
      "cell_type": "markdown",
      "source": [
        "6.\tCrea una función que reciba un texto y retorne cuántas vocales contiene."
      ],
      "metadata": {
        "id": "p6nrMH16QTxy"
      }
    },
    {
      "cell_type": "markdown",
      "source": [
        "7.\tCrea una función que reciba una lista de números y retorne la suma total."
      ],
      "metadata": {
        "id": "W8OT2NhrQXJl"
      }
    },
    {
      "cell_type": "code",
      "source": [
        "suma= lambda lista:\"La suma de los números es \""
      ],
      "metadata": {
        "id": "TD9Zj5Y-U5oS"
      },
      "execution_count": null,
      "outputs": []
    },
    {
      "cell_type": "markdown",
      "source": [
        "8.\tCrea una función que reciba una lista y retorne el mayor y el menor elemento."
      ],
      "metadata": {
        "id": "lwenjoE-QakU"
      }
    },
    {
      "cell_type": "markdown",
      "source": [
        "9. Crea una función que reciba una lista y retorne una nueva lista con los elementos en orden inverso."
      ],
      "metadata": {
        "id": "vkjZ3Op6QeGO"
      }
    },
    {
      "cell_type": "markdown",
      "source": [
        "10.\tCrea una función que reciba una lista de nombres y retorne cuántos nombres comienzan con vocal."
      ],
      "metadata": {
        "id": "Ylvg5teoO-5V"
      }
    },
    {
      "cell_type": "markdown",
      "source": [
        "11.\tCrea una función que reciba una lista y retorne otra lista sin elementos repetidos."
      ],
      "metadata": {
        "id": "OQf51H3ePDqY"
      }
    },
    {
      "cell_type": "markdown",
      "source": [
        "12. Crea una función que reciba una lista de números y retorne solo los que son primos."
      ],
      "metadata": {
        "id": "pLcX7jiKPgGK"
      }
    },
    {
      "cell_type": "markdown",
      "source": [
        "13.\tCrea una función que reciba un diccionario con claves 'nombre' y 'edad', y retorne un mensaje con esos datos."
      ],
      "metadata": {
        "id": "Ut84GTLiPd8j"
      }
    },
    {
      "cell_type": "markdown",
      "source": [
        "14.\tCrea una función que reciba un diccionario de productos (clave: nombre, valor: precio) y retorne el total."
      ],
      "metadata": {
        "id": "c92Ex_tEPbv0"
      }
    },
    {
      "cell_type": "markdown",
      "source": [
        "15.\tCrea una función que reciba un diccionario de estudiantes (clave: nombre, valor: nota) y retorne el promedio."
      ],
      "metadata": {
        "id": "rz90ixT1PZ3x"
      }
    },
    {
      "cell_type": "markdown",
      "source": [
        "16.\tCrea una función que reciba un diccionario y un nombre, y retorne la nota si existe o 'no encontrado'."
      ],
      "metadata": {
        "id": "qfya0XbMPX6x"
      }
    },
    {
      "cell_type": "markdown",
      "source": [
        "17.\tCrea una función que reciba un diccionario y retorne el nombre del estudiante con mayor nota.\n"
      ],
      "metadata": {
        "id": "zf2vL_5-PSly"
      }
    },
    {
      "cell_type": "markdown",
      "source": [
        "18.\tCrea una función que reciba un diccionario de productos y retorne los productos con precios mayores a un valor dado.\n"
      ],
      "metadata": {
        "id": "IM1hwTruPNlO"
      }
    },
    {
      "cell_type": "markdown",
      "source": [
        "19.\tCrea una función que reciba un diccionario de empleados (clave: nombre, valor: lista de horas trabajadas) y retorne el total de horas por empleado."
      ],
      "metadata": {
        "id": "OZM1N0PWPLlQ"
      }
    },
    {
      "cell_type": "markdown",
      "source": [
        "20.\tCrea una función que reciba un diccionario anidado con datos de estudiantes (nombre → {'nota': x, 'edad': y}) y retorne el promedio de notas de los mayores de edad.\n"
      ],
      "metadata": {
        "id": "iskq4XPmPHjO"
      }
    }
  ]
}