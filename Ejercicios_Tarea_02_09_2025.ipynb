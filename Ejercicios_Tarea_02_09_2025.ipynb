{
  "nbformat": 4,
  "nbformat_minor": 0,
  "metadata": {
    "colab": {
      "provenance": [],
      "authorship_tag": "ABX9TyMiAjpj6RgFbRWstiaVfIq3",
      "include_colab_link": true
    },
    "kernelspec": {
      "name": "python3",
      "display_name": "Python 3"
    },
    "language_info": {
      "name": "python"
    }
  },
  "cells": [
    {
      "cell_type": "markdown",
      "metadata": {
        "id": "view-in-github",
        "colab_type": "text"
      },
      "source": [
        "<a href=\"https://colab.research.google.com/github/vale-07-bit/PROGCOM-A/blob/main/Ejercicios_Tarea_02_09_2025.ipynb\" target=\"_parent\"><img src=\"https://colab.research.google.com/assets/colab-badge.svg\" alt=\"Open In Colab\"/></a>"
      ]
    },
    {
      "cell_type": "markdown",
      "source": [
        "#Funciones y Tipos de Datos (20 ejercicios)\n",
        "1. Crea una función que reciba un número y retorne su cuadrado.\n"
      ],
      "metadata": {
        "id": "UH75w3YDMu2i"
      }
    },
    {
      "cell_type": "code",
      "source": [
        "cuadrado= lambda n:n**2"
      ],
      "metadata": {
        "id": "e2rdhmiGMy7c"
      },
      "execution_count": 1,
      "outputs": []
    },
    {
      "cell_type": "code",
      "source": [
        "cuadrado(3)"
      ],
      "metadata": {
        "colab": {
          "base_uri": "https://localhost:8080/"
        },
        "id": "RU7X_zEMNF56",
        "outputId": "6fc5570f-f17f-453f-a367-d08bc004ba12"
      },
      "execution_count": 2,
      "outputs": [
        {
          "output_type": "execute_result",
          "data": {
            "text/plain": [
              "9"
            ]
          },
          "metadata": {},
          "execution_count": 2
        }
      ]
    },
    {
      "cell_type": "markdown",
      "source": [
        "2. Crea una función que reciba un nombre y retorne un saludo personalizado (ese saludo debe ser aleatorio. Para ello, genere al menos 20 saludos)."
      ],
      "metadata": {
        "id": "9hPM9PuFNMyl"
      }
    },
    {
      "cell_type": "markdown",
      "source": [
        "3.\tCrea una función que reciba dos números y retorne su suma, resta, multiplicación y división."
      ],
      "metadata": {
        "id": "MDKy5gbINp4i"
      }
    },
    {
      "cell_type": "code",
      "source": [
        "operacion= lambda a,b: f\"La suma es: {a+b}\\nLa resta es: {a-b}\\nLa multiplicación es: {a*b}\\nLa división es: {a/b}\""
      ],
      "metadata": {
        "id": "r8pESTYxNrPo"
      },
      "execution_count": 28,
      "outputs": []
    },
    {
      "cell_type": "code",
      "source": [
        "print(operacion(4,5))"
      ],
      "metadata": {
        "colab": {
          "base_uri": "https://localhost:8080/"
        },
        "id": "Dz3KQObUOP_4",
        "outputId": "874ec97e-0323-42d3-84bc-2186567b9343"
      },
      "execution_count": 29,
      "outputs": [
        {
          "output_type": "stream",
          "name": "stdout",
          "text": [
            "La suma es: 9\n",
            "La resta es: -1\n",
            "La multiplicación es: 20\n",
            "La división es: 0.8\n"
          ]
        }
      ]
    },
    {
      "cell_type": "markdown",
      "source": [
        "4.\tCrea una función que reciba una edad y retorne si es mayor de edad."
      ],
      "metadata": {
        "id": "0EoCEr8IPjWx"
      }
    },
    {
      "cell_type": "code",
      "source": [
        "edad= lambda e:\"Es mayor de edad\" if e>=18 else \"Es menor de edad\""
      ],
      "metadata": {
        "id": "BIrDEXZuPik1"
      },
      "execution_count": 36,
      "outputs": []
    },
    {
      "cell_type": "code",
      "source": [
        "edad(14)"
      ],
      "metadata": {
        "colab": {
          "base_uri": "https://localhost:8080/",
          "height": 35
        },
        "id": "6idU1AUgQKon",
        "outputId": "5ea88306-10e9-4d87-c3a1-e48d577c4ee1"
      },
      "execution_count": 38,
      "outputs": [
        {
          "output_type": "execute_result",
          "data": {
            "text/plain": [
              "'Es menor de edad'"
            ],
            "application/vnd.google.colaboratory.intrinsic+json": {
              "type": "string"
            }
          },
          "metadata": {},
          "execution_count": 38
        }
      ]
    },
    {
      "cell_type": "markdown",
      "source": [
        "5.\tCrea una función que reciba una palabra y determine si es un palíndromo."
      ],
      "metadata": {
        "id": "N04onlJTQQb4"
      }
    },
    {
      "cell_type": "markdown",
      "source": [
        "6.\tCrea una función que reciba un texto y retorne cuántas vocales contiene."
      ],
      "metadata": {
        "id": "p6nrMH16QTxy"
      }
    },
    {
      "cell_type": "markdown",
      "source": [
        "7.\tCrea una función que reciba una lista de números y retorne la suma total."
      ],
      "metadata": {
        "id": "W8OT2NhrQXJl"
      }
    },
    {
      "cell_type": "markdown",
      "source": [
        "8.\tCrea una función que reciba una lista y retorne el mayor y el menor elemento."
      ],
      "metadata": {
        "id": "lwenjoE-QakU"
      }
    },
    {
      "cell_type": "markdown",
      "source": [
        "9. Crea una función que reciba una lista y retorne una nueva lista con los elementos en orden inverso."
      ],
      "metadata": {
        "id": "vkjZ3Op6QeGO"
      }
    }
  ]
}