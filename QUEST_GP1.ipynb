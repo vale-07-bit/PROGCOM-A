{
  "nbformat": 4,
  "nbformat_minor": 0,
  "metadata": {
    "colab": {
      "provenance": [],
      "authorship_tag": "ABX9TyNqi5fgOQsOZekZc52rukn9",
      "include_colab_link": true
    },
    "kernelspec": {
      "name": "python3",
      "display_name": "Python 3"
    },
    "language_info": {
      "name": "python"
    }
  },
  "cells": [
    {
      "cell_type": "markdown",
      "metadata": {
        "id": "view-in-github",
        "colab_type": "text"
      },
      "source": [
        "<a href=\"https://colab.research.google.com/github/vale-07-bit/PROGCOM-A/blob/main/QUEST_GP1.ipynb\" target=\"_parent\"><img src=\"https://colab.research.google.com/assets/colab-badge.svg\" alt=\"Open In Colab\"/></a>"
      ]
    },
    {
      "cell_type": "code",
      "execution_count": 6,
      "metadata": {
        "colab": {
          "base_uri": "https://localhost:8080/"
        },
        "id": "oMYr-hyt-5SQ",
        "outputId": "f5799581-d96c-4e0c-f513-dfbef93529d8"
      },
      "outputs": [
        {
          "output_type": "stream",
          "name": "stdout",
          "text": [
            "¡Bienvenido al juego de piedra, papel o tijera!\n",
            "Elije tu opción:\n",
            "1. Piedra\n",
            "2. Papel\n",
            "3. Tijera\n",
            "Ingresa el número de tu elección: 2\n",
            "¡Ganaste! La computadora eligió Piedra\n"
          ]
        }
      ],
      "source": [
        "import random\n",
        "print(\"¡Bienvenido al juego de piedra, papel o tijera!\")\n",
        "print(\"Elije tu opción:\")\n",
        "print(\"1. Piedra\")\n",
        "print(\"2. Papel\")\n",
        "print(\"3. Tijera\")\n",
        "jugador = int(input(\"Ingresa el número de tu elección: \"))\n",
        "computadora = random.randint(1, 3)\n",
        "if computadora == 1:\n",
        "     opcion_computadora = \"Piedra\"\n",
        "elif computadora == 2:\n",
        "     opcion_computadora = \"Papel\"\n",
        "else:\n",
        "     opcion_computadora = \"Tijera\"\n",
        "if jugador == computadora:\n",
        "     print(\"Empate. Ambos eligieron\", opcion_computadora)\n",
        "elif (jugador == 1 and computadora == 3) or (jugador == 2 and computadora == 1) or (jugador == 3 and computadora == 2):\n",
        "     print(\"¡Ganaste! La computadora eligió\", opcion_computadora)\n",
        "else:\n",
        "     print(\"Perdiste. La computadora eligió\", opcion_computadora)"
      ]
    }
  ]
}