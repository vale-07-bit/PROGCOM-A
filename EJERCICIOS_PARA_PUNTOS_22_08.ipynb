{
  "nbformat": 4,
  "nbformat_minor": 0,
  "metadata": {
    "colab": {
      "provenance": [],
      "authorship_tag": "ABX9TyM4iK369wQlSjy72qUYsGkd",
      "include_colab_link": true
    },
    "kernelspec": {
      "name": "python3",
      "display_name": "Python 3"
    },
    "language_info": {
      "name": "python"
    }
  },
  "cells": [
    {
      "cell_type": "markdown",
      "metadata": {
        "id": "view-in-github",
        "colab_type": "text"
      },
      "source": [
        "<a href=\"https://colab.research.google.com/github/vale-07-bit/PROGCOM-A/blob/main/EJERCICIOS_PARA_PUNTOS_22_08.ipynb\" target=\"_parent\"><img src=\"https://colab.research.google.com/assets/colab-badge.svg\" alt=\"Open In Colab\"/></a>"
      ]
    },
    {
      "cell_type": "markdown",
      "source": [
        "EJERCICIOS DE LA PRUEBA DIAGNÓSTICA\n",
        "\n",
        "1. Escribe un programa que imprima los números del 1 al 10."
      ],
      "metadata": {
        "id": "xx-34pzI-Wjw"
      }
    },
    {
      "cell_type": "code",
      "source": [
        "for i in range(10):\n",
        "  print(i+1)"
      ],
      "metadata": {
        "colab": {
          "base_uri": "https://localhost:8080/"
        },
        "id": "-6dT9NDu-WUf",
        "outputId": "28efcbd6-0623-44dc-a1c9-73837b689b1d"
      },
      "execution_count": 5,
      "outputs": [
        {
          "output_type": "stream",
          "name": "stdout",
          "text": [
            "1\n",
            "2\n",
            "3\n",
            "4\n",
            "5\n",
            "6\n",
            "7\n",
            "8\n",
            "9\n",
            "10\n"
          ]
        }
      ]
    },
    {
      "cell_type": "code",
      "source": [
        "numeros=[]\n",
        "for i in range(10):\n",
        " numeros.append(i+1)\n",
        "print(numeros)"
      ],
      "metadata": {
        "colab": {
          "base_uri": "https://localhost:8080/"
        },
        "id": "Oe7Glscs-jKj",
        "outputId": "5b288fd9-fcc7-48ea-a095-3e9966e2593e"
      },
      "execution_count": 6,
      "outputs": [
        {
          "output_type": "stream",
          "name": "stdout",
          "text": [
            "[1, 2, 3, 4, 5, 6, 7, 8, 9, 10]\n"
          ]
        }
      ]
    },
    {
      "cell_type": "markdown",
      "source": [
        "2. Escribe un programa que sume los números del 1 al 100."
      ],
      "metadata": {
        "id": "gySezkv7-zKe"
      }
    },
    {
      "cell_type": "code",
      "source": [
        "suma=0\n",
        "for i in range(101):\n",
        " suma = i+suma\n",
        "print(suma)"
      ],
      "metadata": {
        "colab": {
          "base_uri": "https://localhost:8080/"
        },
        "id": "j-EKSyP5-02K",
        "outputId": "ebee42df-f1e2-4339-af96-1f3d3fd647c6"
      },
      "execution_count": 7,
      "outputs": [
        {
          "output_type": "stream",
          "name": "stdout",
          "text": [
            "5050\n"
          ]
        }
      ]
    },
    {
      "cell_type": "code",
      "source": [
        "suma_de_numeros = []\n",
        "suma=0\n",
        "for i in range(101):\n",
        " suma = i+suma\n",
        " suma_de_numeros.append(suma)\n",
        "print(suma_de_numeros)"
      ],
      "metadata": {
        "colab": {
          "base_uri": "https://localhost:8080/"
        },
        "id": "xXzMkJbN-5Nf",
        "outputId": "3b331740-e22f-4580-9dd4-d5d2af2b8548"
      },
      "execution_count": 8,
      "outputs": [
        {
          "output_type": "stream",
          "name": "stdout",
          "text": [
            "[0, 1, 3, 6, 10, 15, 21, 28, 36, 45, 55, 66, 78, 91, 105, 120, 136, 153, 171, 190, 210, 231, 253, 276, 300, 325, 351, 378, 406, 435, 465, 496, 528, 561, 595, 630, 666, 703, 741, 780, 820, 861, 903, 946, 990, 1035, 1081, 1128, 1176, 1225, 1275, 1326, 1378, 1431, 1485, 1540, 1596, 1653, 1711, 1770, 1830, 1891, 1953, 2016, 2080, 2145, 2211, 2278, 2346, 2415, 2485, 2556, 2628, 2701, 2775, 2850, 2926, 3003, 3081, 3160, 3240, 3321, 3403, 3486, 3570, 3655, 3741, 3828, 3916, 4005, 4095, 4186, 4278, 4371, 4465, 4560, 4656, 4753, 4851, 4950, 5050]\n"
          ]
        }
      ]
    },
    {
      "cell_type": "markdown",
      "source": [
        "3. Escribe un programa que imprima los múltiplos de 3 entre 1 y 30."
      ],
      "metadata": {
        "id": "7-nKOq53--HP"
      }
    },
    {
      "cell_type": "code",
      "source": [
        "for hola in range(3,31,3):\n",
        " print(hola)"
      ],
      "metadata": {
        "colab": {
          "base_uri": "https://localhost:8080/"
        },
        "id": "0ZaK4MHZ-9z_",
        "outputId": "94f8c349-4fc5-44ba-a349-eb2918ff69dd"
      },
      "execution_count": 9,
      "outputs": [
        {
          "output_type": "stream",
          "name": "stdout",
          "text": [
            "3\n",
            "6\n",
            "9\n",
            "12\n",
            "15\n",
            "18\n",
            "21\n",
            "24\n",
            "27\n",
            "30\n"
          ]
        }
      ]
    },
    {
      "cell_type": "code",
      "source": [
        "multiplos=[]\n",
        "for hola in range(3,31,3):\n",
        " multiplos.append(hola)\n",
        "print(multiplos)"
      ],
      "metadata": {
        "colab": {
          "base_uri": "https://localhost:8080/"
        },
        "id": "9I4i93Vq_JT5",
        "outputId": "cbbb5c04-9435-49b5-9f43-73a89c956c19"
      },
      "execution_count": 10,
      "outputs": [
        {
          "output_type": "stream",
          "name": "stdout",
          "text": [
            "[3, 6, 9, 12, 15, 18, 21, 24, 27, 30]\n"
          ]
        }
      ]
    },
    {
      "cell_type": "markdown",
      "source": [
        "4. Escribe un programa que lea un número e imprima su tabla de multiplicar del 1 al 10."
      ],
      "metadata": {
        "id": "wPF6T04G_KRV"
      }
    },
    {
      "cell_type": "code",
      "source": [
        "v=int(input(\"Ingrese el número que desea multiplicar: \"))\n",
        "print(\"\")\n",
        "print(f\"TABLA DEL {v}\")\n",
        "for i in range (1,11,1):\n",
        "  print(f\"{v} x {i} = {v*i}\")"
      ],
      "metadata": {
        "colab": {
          "base_uri": "https://localhost:8080/"
        },
        "id": "6RpuhIxm_NAF",
        "outputId": "59a5d8e0-e87a-4564-8ffc-7531484937fe"
      },
      "execution_count": 11,
      "outputs": [
        {
          "output_type": "stream",
          "name": "stdout",
          "text": [
            "Ingrese el número que desea multiplicar: 3\n",
            "\n",
            "TABLA DEL 3\n",
            "3 x 1 = 3\n",
            "3 x 2 = 6\n",
            "3 x 3 = 9\n",
            "3 x 4 = 12\n",
            "3 x 5 = 15\n",
            "3 x 6 = 18\n",
            "3 x 7 = 21\n",
            "3 x 8 = 24\n",
            "3 x 9 = 27\n",
            "3 x 10 = 30\n"
          ]
        }
      ]
    },
    {
      "cell_type": "code",
      "source": [
        "tabla=[]\n",
        "v=int(input(\"Ingrese el número que desea multiplicar: \"))\n",
        "print(\"\")\n",
        "print(f\"TABLA DEL {v}\")\n",
        "for i in range (1,11,1):\n",
        "  multiplicacion=v*i\n",
        "  tabla.append(multiplicacion)\n",
        "print(tabla)"
      ],
      "metadata": {
        "colab": {
          "base_uri": "https://localhost:8080/"
        },
        "id": "XTw58wdL_Qfe",
        "outputId": "bba49e1e-ce93-4364-af46-1b8051b19c80"
      },
      "execution_count": 12,
      "outputs": [
        {
          "output_type": "stream",
          "name": "stdout",
          "text": [
            "Ingrese el número que desea multiplicar: 3\n",
            "\n",
            "TABLA DEL 3\n",
            "[3, 6, 9, 12, 15, 18, 21, 24, 27, 30]\n"
          ]
        }
      ]
    },
    {
      "cell_type": "markdown",
      "source": [
        "5. Escribe un programa que pida 5 números al usuario y calcule el promedio\n"
      ],
      "metadata": {
        "id": "xx-Ofgar5NP3"
      }
    },
    {
      "cell_type": "code",
      "execution_count": 4,
      "metadata": {
        "colab": {
          "base_uri": "https://localhost:8080/"
        },
        "id": "NNSbqUjk44Pa",
        "outputId": "fc32b0f3-9e71-43fa-ed04-b88db2786485"
      },
      "outputs": [
        {
          "output_type": "stream",
          "name": "stdout",
          "text": [
            "Ingresa el número: 1\n",
            "Ingresa el número: 1\n",
            "Ingresa el número: 1\n",
            "Ingresa el número: 1\n",
            "Ingresa el número: 1\n",
            "La suma de los números es: 5\n",
            "El promedio de los números es: 1.0\n"
          ]
        }
      ],
      "source": [
        "suma = 0\n",
        "for i in range(5):\n",
        "    num = int(input(f\"Ingresa el número: \"))\n",
        "    suma = suma + num\n",
        "promedio = suma / 5\n",
        "print(f\"1La suma de los números es: {suma}\")\n",
        "print(f\"El promedio de los números es: {promedio}\")"
      ]
    },
    {
      "cell_type": "code",
      "source": [
        "numeros = []\n",
        "for i in range(5):\n",
        "    num = float(input(f\"Ingresa el número {i+1}: \"))\n",
        "    numeros.append(num)\n",
        "suma = sum(numeros)\n",
        "\n",
        "promedio = suma / cantidad\n",
        "print(f\"La suma de los números es: {suma}\")\n",
        "print(f\"El promedio de los números es: {promedio}\")"
      ],
      "metadata": {
        "colab": {
          "base_uri": "https://localhost:8080/"
        },
        "id": "kmTD4XcI5ZN5",
        "outputId": "dcdbc974-a097-4ee0-d47c-79efa01d3c15"
      },
      "execution_count": 8,
      "outputs": [
        {
          "output_type": "stream",
          "name": "stdout",
          "text": [
            "Ingresa el número 1: 1\n",
            "Ingresa el número 2: 2\n",
            "Ingresa el número 3: 1\n",
            "Ingresa el número 4: 2\n",
            "Ingresa el número 5: 1\n",
            "La suma de los números es: 7.0\n",
            "El promedio de los números es: 1.4\n"
          ]
        }
      ]
    },
    {
      "cell_type": "markdown",
      "source": [
        "6. Escribe un programa que cuente cuántos números pares hay entre 1 y un número ingresado"
      ],
      "metadata": {
        "id": "Y7oG_tnh6rui"
      }
    },
    {
      "cell_type": "code",
      "source": [
        "n = int(input(\"Ingresa un número: \"))\n",
        "contador = 0\n",
        "for i in range(1, n + 1):\n",
        "    if i % 2 == 0:\n",
        "        contador += 1\n",
        "print(f\"Hay {contador} números pares entre 1 y {n}.\")"
      ],
      "metadata": {
        "colab": {
          "base_uri": "https://localhost:8080/"
        },
        "id": "7QT8pHbL69yI",
        "outputId": "53ace8d1-6865-47f4-92b5-019e16e7e572"
      },
      "execution_count": 3,
      "outputs": [
        {
          "output_type": "stream",
          "name": "stdout",
          "text": [
            "Ingresa un número: 10\n",
            "Hay 5 números pares entre 1 y 10.\n"
          ]
        }
      ]
    },
    {
      "cell_type": "code",
      "source": [
        "n = int(input(\"Ingresa un número: \"))\n",
        "pares = [i for i in range(1, n + 1) if i % 2 == 0]\n",
        "print(f\"Los números pares son: {pares}\")\n",
        "print(f\"Hay {len(pares)} números pares entre 1 y {n}.\")"
      ],
      "metadata": {
        "colab": {
          "base_uri": "https://localhost:8080/"
        },
        "id": "zyIl-XsY8-VQ",
        "outputId": "0e347293-4163-468c-88a4-683a2c577a7f"
      },
      "execution_count": 4,
      "outputs": [
        {
          "output_type": "stream",
          "name": "stdout",
          "text": [
            "Ingresa un número: 4\n",
            "Los números pares son: [2, 4]\n",
            "Hay 2 números pares entre 1 y 4.\n"
          ]
        }
      ]
    }
  ]
}