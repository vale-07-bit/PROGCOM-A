{
  "nbformat": 4,
  "nbformat_minor": 0,
  "metadata": {
    "colab": {
      "provenance": []
    },
    "kernelspec": {
      "name": "python3",
      "display_name": "Python 3"
    },
    "language_info": {
      "name": "python"
    }
  },
  "cells": [
    {
      "cell_type": "markdown",
      "source": [
        "#DICCIONARIOS\n",
        "Un tipo de dato que tiene como sintaxis:\n",
        "```\n",
        "Nombre_dict={}\n",
        "dict2={\"clave\":valor}\n",
        "```\n",
        "* La \"clave o llave\": siempre es alfanumérico\n",
        "Pose las siguientes caracteristicas\n",
        "1. no tiene indexación"
      ],
      "metadata": {
        "id": "PGVII8x3eqmJ"
      }
    },
    {
      "cell_type": "code",
      "source": [
        "Lista=list(range(1,11))\n",
        "Lista[-1]"
      ],
      "metadata": {
        "colab": {
          "base_uri": "https://localhost:8080/"
        },
        "id": "NkgfKM7bfkeH",
        "outputId": "0f787b29-7647-46f4-b804-bd85f96c26d1"
      },
      "execution_count": 18,
      "outputs": [
        {
          "output_type": "execute_result",
          "data": {
            "text/plain": [
              "10"
            ]
          },
          "metadata": {},
          "execution_count": 18
        }
      ]
    },
    {
      "cell_type": "code",
      "source": [
        "liga_justicia={\"heroes\":[\"Superman\",\"Batman\",\"Wonder Woman\"],\n",
        "               \"villanos\":[\"Lex Luthor\",\"Joker\",\"Cheetah\"],\n",
        "               \"identidad_secreta\":[\"Clark Kent\",\"Bruce Wayne\", \"Diana Prince\"]}\n",
        "liga_justicia"
      ],
      "metadata": {
        "colab": {
          "base_uri": "https://localhost:8080/"
        },
        "id": "BIFuwHLYcswy",
        "outputId": "f80075e4-cc22-4d4d-c924-e0d8ba6eb2b2"
      },
      "execution_count": 197,
      "outputs": [
        {
          "output_type": "execute_result",
          "data": {
            "text/plain": [
              "{'heroes': ['Superman', 'Batman', 'Wonder Woman'],\n",
              " 'villanos': ['Lex Luthor', 'Joker', 'Cheetah'],\n",
              " 'identidad_secreta': ['Clark Kent', 'Bruce Wayne', 'Diana Prince']}"
            ]
          },
          "metadata": {},
          "execution_count": 197
        }
      ]
    },
    {
      "cell_type": "code",
      "source": [
        "print(\"la identidad secreta de batman es\", liga_justicia[\"identidad_secreta\"][1])  # Salida: Bruce Wayne\n"
      ],
      "metadata": {
        "colab": {
          "base_uri": "https://localhost:8080/"
        },
        "id": "zTQBGNlriAJN",
        "outputId": "6727e9cd-f1f1-4914-e31e-40f2af0291c9"
      },
      "execution_count": 69,
      "outputs": [
        {
          "output_type": "stream",
          "name": "stdout",
          "text": [
            "la identidad secreta de batman es Bruce Wayne\n"
          ]
        }
      ]
    },
    {
      "cell_type": "markdown",
      "source": [
        "2. Puede almacenar cualquier tipo de valor\n",
        "3. Es mutable"
      ],
      "metadata": {
        "id": "QDPdF7uCkLuT"
      }
    },
    {
      "cell_type": "markdown",
      "source": [
        ".keys()Método de los diccionarios que me permite adquirir todas las llaves del diccionario"
      ],
      "metadata": {
        "id": "bxcwXmGQmFYI"
      }
    },
    {
      "cell_type": "code",
      "source": [
        "liga_justicia.keys()"
      ],
      "metadata": {
        "id": "RS_NcvPcmIvx"
      },
      "execution_count": null,
      "outputs": []
    },
    {
      "cell_type": "markdown",
      "source": [
        ".clear() Método que elimina todos los elementos dentro de un diccionario"
      ],
      "metadata": {
        "id": "PPBDEdBlmUko"
      }
    },
    {
      "cell_type": "code",
      "source": [
        "liga_justicia.clear()"
      ],
      "metadata": {
        "id": "0ZoRzK51l-bg"
      },
      "execution_count": 75,
      "outputs": []
    },
    {
      "cell_type": "markdown",
      "source": [
        ".copy() crea una copia supercial de todo el diccionario y lo da en un renglón"
      ],
      "metadata": {
        "id": "IiMOAbWfmZ4g"
      }
    },
    {
      "cell_type": "code",
      "source": [
        "\n",
        "copia = liga_justicia.copy()\n",
        "print(copia)"
      ],
      "metadata": {
        "colab": {
          "base_uri": "https://localhost:8080/"
        },
        "id": "Knc6ljO-maJQ",
        "outputId": "f51d2dad-bd4d-4b29-f6d8-13969b5b1ca9"
      },
      "execution_count": 85,
      "outputs": [
        {
          "output_type": "stream",
          "name": "stdout",
          "text": [
            "{'héroes': ['Superman', 'Batman'], 'villanos': ['Joker', 'Lex Luthor']}\n"
          ]
        }
      ]
    },
    {
      "cell_type": "markdown",
      "source": [],
      "metadata": {
        "id": "XwdmExQbnpIP"
      }
    },
    {
      "cell_type": "code",
      "source": [
        ".items() Método que entrega todos los elementos dentro de las llaves"
      ],
      "metadata": {
        "id": "uBzNf2k2nvWn"
      },
      "execution_count": null,
      "outputs": []
    },
    {
      "cell_type": "code",
      "source": [
        "liga_justicia.items()"
      ],
      "metadata": {
        "colab": {
          "base_uri": "https://localhost:8080/"
        },
        "id": "ceVMG3IUnpgf",
        "outputId": "8af5bf5b-3d52-439f-8e1a-4f5b7deffdd0"
      },
      "execution_count": 86,
      "outputs": [
        {
          "output_type": "execute_result",
          "data": {
            "text/plain": [
              "dict_items([('héroes', ['Superman', 'Batman']), ('villanos', ['Joker', 'Lex Luthor'])])"
            ]
          },
          "metadata": {},
          "execution_count": 86
        }
      ]
    },
    {
      "cell_type": "markdown",
      "source": [
        "liga_justicia.pop:() elimina un elemento en especifíco de un diccionario"
      ],
      "metadata": {
        "id": "DRtMb02dn1D_"
      }
    },
    {
      "cell_type": "code",
      "source": [
        "villanos_eliminados = liga_justicia.pop(\"villanos\")\n",
        "\n",
        "print(\"Diccionario actual:\", liga_justicia)\n"
      ],
      "metadata": {
        "colab": {
          "base_uri": "https://localhost:8080/"
        },
        "id": "C82OuC_hn1W-",
        "outputId": "1df3676c-e6d6-4c19-b857-db6c64004d83"
      },
      "execution_count": 144,
      "outputs": [
        {
          "output_type": "stream",
          "name": "stdout",
          "text": [
            "Diccionario actual: {'heroes': ['Superman', 'Batman', 'Wonder Woman'], 'identidad_secreta': ['Clark Kent', 'Bruce Wayne', 'Diana Prince']}\n"
          ]
        }
      ]
    },
    {
      "cell_type": "markdown",
      "source": [
        ".get() te da los elementos de la llave que tu escojas"
      ],
      "metadata": {
        "id": "zLgEmAhWqX0c"
      }
    },
    {
      "cell_type": "code",
      "source": [
        "liga_justicia.get(\"heroes\")"
      ],
      "metadata": {
        "colab": {
          "base_uri": "https://localhost:8080/"
        },
        "id": "kXJy-Ih5pfRF",
        "outputId": "fe68d5c7-031a-4fdf-cfcf-b95c88bfc11d"
      },
      "execution_count": 145,
      "outputs": [
        {
          "output_type": "execute_result",
          "data": {
            "text/plain": [
              "['Superman', 'Batman', 'Wonder Woman']"
            ]
          },
          "metadata": {},
          "execution_count": 145
        }
      ]
    },
    {
      "cell_type": "markdown",
      "source": [],
      "metadata": {
        "id": "C47e4foJqckc"
      }
    },
    {
      "cell_type": "markdown",
      "source": [
        ".fromkeys() Método que te da el nombre de lo que escojas pero lo separa uno por 1"
      ],
      "metadata": {
        "id": "IDQAARzIqpQs"
      }
    },
    {
      "cell_type": "code",
      "source": [
        "liga_justicia.fromkeys(\"heroes\", True)"
      ],
      "metadata": {
        "colab": {
          "base_uri": "https://localhost:8080/"
        },
        "id": "LOxTnwN4qc9c",
        "outputId": "af694e02-7289-4292-eb4f-3dca4932111a"
      },
      "execution_count": 152,
      "outputs": [
        {
          "output_type": "execute_result",
          "data": {
            "text/plain": [
              "{'h': True, 'e': True, 'r': True, 'o': True, 's': True}"
            ]
          },
          "metadata": {},
          "execution_count": 152
        }
      ]
    },
    {
      "cell_type": "markdown",
      "source": [
        ".popitem() Elimina y devuelve el último par clave-valor"
      ],
      "metadata": {
        "id": "fwEA1eP-q-1c"
      }
    },
    {
      "cell_type": "code",
      "source": [
        "ultimo_item= liga_justicia.popitem()\n",
        "print(\"Último par clave-valor eliminado:\", ultimo_item)\n",
        "\n",
        "print(\"Diccionario después de popitem:\", liga_justicia)"
      ],
      "metadata": {
        "colab": {
          "base_uri": "https://localhost:8080/"
        },
        "collapsed": true,
        "id": "sjOf_Rqyq_1j",
        "outputId": "62200ede-3b24-4524-9cd7-5e313bbd7a33"
      },
      "execution_count": 180,
      "outputs": [
        {
          "output_type": "stream",
          "name": "stdout",
          "text": [
            "Último par clave-valor eliminado: ('identidad_secreta', ['Clark Kent', 'Bruce Wayne', 'Diana Prince'])\n",
            "Diccionario después de popitem: {'heroes': ['Superman', 'Batman', 'Wonder Woman'], 'villanos': ['Lex Luthor', 'Joker', 'Cheetah']}\n"
          ]
        }
      ]
    },
    {
      "cell_type": "markdown",
      "source": [
        ".setdefault Si la clave existe, devuelve el valor asociado sino agrega la clave con el valor predeterminado"
      ],
      "metadata": {
        "id": "_OZ59TWAr2-R"
      }
    },
    {
      "cell_type": "code",
      "source": [
        "valor_nuevo = liga_justicia.setdefault(\"Wonder Woman\",\"Diana Prince\")\n",
        "print(valor_nuevo)\n",
        "print(liga_justicia)\n"
      ],
      "metadata": {
        "colab": {
          "base_uri": "https://localhost:8080/"
        },
        "id": "gy5JaTaXrtt7",
        "outputId": "2cfafa7e-5156-4885-b348-f2a53f0576b8"
      },
      "execution_count": 194,
      "outputs": [
        {
          "output_type": "stream",
          "name": "stdout",
          "text": [
            "Diana Prince\n",
            "{'heroes': ['Superman', 'Batman', 'Wonder Woman'], 'villanos': ['Lex Luthor', 'Joker', 'Cheetah'], 1: None, 'Wonder Woman': 'Diana Prince'}\n"
          ]
        }
      ]
    },
    {
      "cell_type": "markdown",
      "source": [
        ".update() permite agregar nuevos elementos al diccionario y los agrega en una nueva llave"
      ],
      "metadata": {
        "id": "kGj0j-Yds2Oq"
      }
    },
    {
      "cell_type": "code",
      "source": [
        "\n",
        "nuevos_heroes = {\n",
        "    \"Flash\": \"Barry Allen\"}\n",
        "liga_justicia.update(nuevos_heroes)\n",
        "print(liga_justicia)\n"
      ],
      "metadata": {
        "colab": {
          "base_uri": "https://localhost:8080/"
        },
        "id": "czILRISTs2kS",
        "outputId": "9e0b3e57-2c37-4d5a-acad-157198514b03"
      },
      "execution_count": 198,
      "outputs": [
        {
          "output_type": "stream",
          "name": "stdout",
          "text": [
            "{'heroes': ['Superman', 'Batman', 'Wonder Woman'], 'villanos': ['Lex Luthor', 'Joker', 'Cheetah'], 'identidad_secreta': ['Clark Kent', 'Bruce Wayne', 'Diana Prince'], 'Flash': 'Barry Allen'}\n"
          ]
        }
      ]
    },
    {
      "cell_type": "markdown",
      "source": [
        ".values() Devuelve una vista de los valores del diccionario."
      ],
      "metadata": {
        "id": "iqptBcKqtRIC"
      }
    },
    {
      "cell_type": "code",
      "source": [
        "\n",
        "valores = liga_justicia.values()\n",
        "print(valores)"
      ],
      "metadata": {
        "colab": {
          "base_uri": "https://localhost:8080/"
        },
        "id": "9W6pZwUFtR9B",
        "outputId": "1d1502f3-6b65-43ba-d4cb-60477b8d7bf6"
      },
      "execution_count": 199,
      "outputs": [
        {
          "output_type": "stream",
          "name": "stdout",
          "text": [
            "dict_values([['Superman', 'Batman', 'Wonder Woman'], ['Lex Luthor', 'Joker', 'Cheetah'], ['Clark Kent', 'Bruce Wayne', 'Diana Prince'], 'Barry Allen'])\n"
          ]
        }
      ]
    }
  ]
}