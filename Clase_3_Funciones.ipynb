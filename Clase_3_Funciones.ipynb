{
  "nbformat": 4,
  "nbformat_minor": 0,
  "metadata": {
    "colab": {
      "provenance": [],
      "authorship_tag": "ABX9TyMT0aGm3oz1MzFkL+ZSpyrJ",
      "include_colab_link": true
    },
    "kernelspec": {
      "name": "python3",
      "display_name": "Python 3"
    },
    "language_info": {
      "name": "python"
    }
  },
  "cells": [
    {
      "cell_type": "markdown",
      "metadata": {
        "id": "view-in-github",
        "colab_type": "text"
      },
      "source": [
        "<a href=\"https://colab.research.google.com/github/vale-07-bit/PROGCOM-A/blob/main/Clase_3_Funciones.ipynb\" target=\"_parent\"><img src=\"https://colab.research.google.com/assets/colab-badge.svg\" alt=\"Open In Colab\"/></a>"
      ]
    },
    {
      "cell_type": "markdown",
      "source": [
        "#FUNCIONES\n",
        "Copiado dinámico\n",
        "Dió nacimiento a un nuevo paradigma de programación llamado programación modular.\n",
        "Forma general de programar funciones\n",
        "##Forma de programar funciones\n",
        "\n",
        "\n",
        "```\n",
        "def (nombre_de_funcion) (p,p2,p3...pm):\n",
        "  donde p,p2,p3...pn: son parámetros\n",
        "```\n",
        "1. list()\n",
        "2. len()\n",
        "3. print()\n",
        "4. append()\n",
        "5. int()\n",
        "6. input()\n",
        "\n",
        "#Tipos de funcionens\n",
        "\n",
        "1. Sin parámetros, sin retorno\n",
        "2. Sin parámetros, con retorno\n",
        "3. Con parámetros, sin retorno\n",
        "4. Con parámetros, con retorno"
      ],
      "metadata": {
        "id": "KcW1PRYc5ocm"
      }
    },
    {
      "cell_type": "markdown",
      "source": [
        "###1. Sin parámetros, sin retorno\n",
        "Se emplea como copiado dinámico"
      ],
      "metadata": {
        "id": "EPU-u_0J6mCu"
      }
    },
    {
      "cell_type": "code",
      "source": [
        "#Ejemplo: Entrada de ajero electrónico\n",
        "def cajero(): #Esto significa qeu es sin parametros\n",
        " print(\"Bienvenido a DaviUNAB\")\n",
        " print(\"Estas son las operaciones que puede hacer\")\n",
        " print(\"1. Retirar \\n2.Tranferencia\\n3.Denunciar\\n4.Operaciones sin tarjeta\")"
      ],
      "metadata": {
        "id": "Sxuyn8G76tpU"
      },
      "execution_count": 1,
      "outputs": []
    },
    {
      "cell_type": "code",
      "source": [
        "cajero()"
      ],
      "metadata": {
        "colab": {
          "base_uri": "https://localhost:8080/"
        },
        "id": "4dpo-hZM7fyv",
        "outputId": "01fa26dc-2200-4b13-dc28-eb54fc7243be"
      },
      "execution_count": 3,
      "outputs": [
        {
          "output_type": "stream",
          "name": "stdout",
          "text": [
            "Bienvenido a DaviUNAB\n",
            "Estas son las operaciones que puede hacer\n",
            "1. Retirar \n",
            "2. Tranferencia\n",
            "3. Denunciar \n",
            "4. Operaciones sin tarjeta\n"
          ]
        }
      ]
    },
    {
      "cell_type": "markdown",
      "source": [
        "###2. Sin parámetros, con retorno"
      ],
      "metadata": {
        "id": "c2GbUTgK9n-N"
      }
    },
    {
      "cell_type": "code",
      "source": [
        "def cajero2(): #Esto significa qeu es sin parametros\n",
        " print(\"Bienvenido a DaviUNAB\")\n",
        " print(\"Estas son las operaciones que puede hacer\")\n",
        " print(\"1. Retirar \\n2.Tranferencia\\n3.Denunciar\\n4.Operaciones sin tarjeta\")\n",
        " rta=input(\"Ingrese una opción \") #Variabe local\n",
        " return rta #vuelve una variable local- global"
      ],
      "metadata": {
        "id": "-Ox2K82Y9rqU"
      },
      "execution_count": 7,
      "outputs": []
    },
    {
      "cell_type": "code",
      "source": [
        "cajero2()"
      ],
      "metadata": {
        "colab": {
          "base_uri": "https://localhost:8080/"
        },
        "id": "TYd4PjGK93F8",
        "outputId": "61d6c055-9f2a-4989-cdbc-92a1df3c5f24"
      },
      "execution_count": 10,
      "outputs": [
        {
          "name": "stdout",
          "output_type": "stream",
          "text": [
            "Bienvenido a DaviUNAB\n",
            "Estas son las operaciones que puede hacer\n",
            "1. Retirar \n",
            "2.Tranferencia\n",
            "3.Denunciar\n",
            "4.Operaciones sin tarjeta\n",
            "Ingrese una opción 1\n"
          ]
        }
      ]
    },
    {
      "cell_type": "code",
      "source": [
        "rta=cajero2()"
      ],
      "metadata": {
        "colab": {
          "base_uri": "https://localhost:8080/"
        },
        "id": "yfTQhf9Q_XwK",
        "outputId": "dd979485-2116-4f89-da12-1317abe1ead2"
      },
      "execution_count": 12,
      "outputs": [
        {
          "name": "stdout",
          "output_type": "stream",
          "text": [
            "Bienvenido a DaviUNAB\n",
            "Estas son las operaciones que puede hacer\n",
            "1. Retirar \n",
            "2.Tranferencia\n",
            "3.Denunciar\n",
            "4.Operaciones sin tarjeta\n",
            "Ingrese una opción 2\n"
          ]
        }
      ]
    },
    {
      "cell_type": "code",
      "execution_count": 13,
      "metadata": {
        "colab": {
          "base_uri": "https://localhost:8080/"
        },
        "id": "bb9YbpmM5lN6",
        "outputId": "43dbf7f0-7dd0-4fca-ebd1-7d14c810a5fc"
      },
      "outputs": [
        {
          "output_type": "execute_result",
          "data": {
            "text/plain": [
              "NoneType"
            ]
          },
          "metadata": {},
          "execution_count": 13
        }
      ],
      "source": [
        "type(rta)"
      ]
    },
    {
      "cell_type": "markdown",
      "source": [
        "###3. Con parámetros, sin retorno"
      ],
      "metadata": {
        "id": "F2x3muAn_wzq"
      }
    },
    {
      "cell_type": "code",
      "source": [
        "#Ejemplo: el área de un rectángulo\n",
        "def ab(u,du):\n",
        "  print(f\"El área de un rectángulo de base {u} y altura {du} es: {u*du}\")"
      ],
      "metadata": {
        "id": "s_VkkZ59_0BJ"
      },
      "execution_count": 20,
      "outputs": []
    },
    {
      "cell_type": "code",
      "source": [
        "ab(2,3)"
      ],
      "metadata": {
        "colab": {
          "base_uri": "https://localhost:8080/"
        },
        "id": "r4PB2UUdAN1J",
        "outputId": "445d66a5-9de9-4b83-de01-4c15e993d674"
      },
      "execution_count": 21,
      "outputs": [
        {
          "output_type": "stream",
          "name": "stdout",
          "text": [
            "El área de un rectángulo de base 2 y altura 3 es: 6\n"
          ]
        }
      ]
    },
    {
      "cell_type": "markdown",
      "source": [
        "###4. Con parámetros, con retorno\n"
      ],
      "metadata": {
        "id": "MYZTeSnzArbS"
      }
    },
    {
      "cell_type": "code",
      "source": [
        "#Ejemplo: el área de un rectángulo\n",
        "def area_rectangulo (u,du):\n",
        "  return f\"El área de un rectángulo de base {u} y altura {du} es: {u*du}\""
      ],
      "metadata": {
        "id": "C7ox81r3BxRo"
      },
      "execution_count": 24,
      "outputs": []
    },
    {
      "cell_type": "code",
      "source": [
        "a=area_rectangulo(10,15)"
      ],
      "metadata": {
        "id": "5VfzxuqKCHfv"
      },
      "execution_count": 25,
      "outputs": []
    },
    {
      "cell_type": "code",
      "source": [
        "print(a)"
      ],
      "metadata": {
        "colab": {
          "base_uri": "https://localhost:8080/"
        },
        "id": "rMmJC8aHCN_P",
        "outputId": "3a20dab0-a88c-42b8-cb5d-570132f9de4b"
      },
      "execution_count": 26,
      "outputs": [
        {
          "output_type": "stream",
          "name": "stdout",
          "text": [
            "El área de un rectángulo de base 10 y altura 15 es: 150\n"
          ]
        }
      ]
    },
    {
      "cell_type": "markdown",
      "source": [
        "##FUNCIONES ANÓNIMAS O LAMBA\n",
        "1. Siempr usan n parámetros\n",
        "2. Siempre genera retorno\n",
        "3. No tienen nombre --> anónimas\n",
        "4. **Se puede emplear n parámetros, pero solo ejecuta una línea de código**\n",
        "###Definición de funciones\n",
        "\n",
        "\n",
        "```\n",
        "variable=lambda (p, p1, p2,..., pn): operación\n",
        "```\n",
        "\n"
      ],
      "metadata": {
        "id": "jAKN8Cc9Ddpw"
      }
    },
    {
      "cell_type": "code",
      "source": [
        "#Ejemplo: calcular el área de un triángulo\n",
        "area_triangulo=lambda a,b:(a*b)/2"
      ],
      "metadata": {
        "id": "8hSEreIEEkmR"
      },
      "execution_count": 31,
      "outputs": []
    },
    {
      "cell_type": "code",
      "source": [
        "area_triangulo(3,9)"
      ],
      "metadata": {
        "colab": {
          "base_uri": "https://localhost:8080/"
        },
        "id": "v8ZfJKUcE1qY",
        "outputId": "0c496c19-a97a-4d78-f2b2-149a391b4c4d"
      },
      "execution_count": 32,
      "outputs": [
        {
          "output_type": "execute_result",
          "data": {
            "text/plain": [
              "13.5"
            ]
          },
          "metadata": {},
          "execution_count": 32
        }
      ]
    },
    {
      "cell_type": "code",
      "source": [
        "x=int(input(\"Ingrese la altura de un triángulo \"))\n",
        "y= int(input(\"Ingrese la base de un triángulo \"))\n",
        "area_triangulo(x,y)"
      ],
      "metadata": {
        "colab": {
          "base_uri": "https://localhost:8080/"
        },
        "id": "ulcsgBbjFWhW",
        "outputId": "78f521ca-4a47-4015-f382-bdcd261456ef"
      },
      "execution_count": 35,
      "outputs": [
        {
          "name": "stdout",
          "output_type": "stream",
          "text": [
            "Ingrese la altura de un triángulo 2\n",
            "Ingrese la base de un triángulo 5\n"
          ]
        },
        {
          "output_type": "execute_result",
          "data": {
            "text/plain": [
              "5.0"
            ]
          },
          "metadata": {},
          "execution_count": 35
        }
      ]
    },
    {
      "cell_type": "code",
      "source": [
        "#Ejemplo: calcular el área de un circulo\n",
        "pi=3.1416\n",
        "area_circulo=lambda r:pi*r ** 2"
      ],
      "metadata": {
        "id": "EM-HRsefFvw1"
      },
      "execution_count": 48,
      "outputs": []
    },
    {
      "cell_type": "code",
      "source": [
        "area_circulo(4)"
      ],
      "metadata": {
        "colab": {
          "base_uri": "https://localhost:8080/"
        },
        "id": "yU8mxP4YGMKV",
        "outputId": "2edfdf99-692a-4c9b-e1ab-729e8c2dd35f"
      },
      "execution_count": 49,
      "outputs": [
        {
          "output_type": "execute_result",
          "data": {
            "text/plain": [
              "50.2656"
            ]
          },
          "metadata": {},
          "execution_count": 49
        }
      ]
    },
    {
      "cell_type": "code",
      "source": [
        "mayor= lambda v,r,c: v if v>r>c else r if r>c>v else c"
      ],
      "metadata": {
        "id": "aLFYhPNUIMsc"
      },
      "execution_count": 67,
      "outputs": []
    },
    {
      "cell_type": "code",
      "source": [
        "mayor(1,5,3)"
      ],
      "metadata": {
        "colab": {
          "base_uri": "https://localhost:8080/"
        },
        "id": "lW0XXZ9gIYG2",
        "outputId": "e351a086-cfd0-45de-ae2b-277f734ba98c"
      },
      "execution_count": 69,
      "outputs": [
        {
          "output_type": "execute_result",
          "data": {
            "text/plain": [
              "5"
            ]
          },
          "metadata": {},
          "execution_count": 69
        }
      ]
    }
  ]
}