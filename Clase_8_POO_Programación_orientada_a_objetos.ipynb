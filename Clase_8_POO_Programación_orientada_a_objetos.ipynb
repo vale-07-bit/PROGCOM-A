{
  "nbformat": 4,
  "nbformat_minor": 0,
  "metadata": {
    "colab": {
      "provenance": [],
      "authorship_tag": "ABX9TyNORUNMbjJ/wZX8DA4qSBlg",
      "include_colab_link": true
    },
    "kernelspec": {
      "name": "python3",
      "display_name": "Python 3"
    },
    "language_info": {
      "name": "python"
    }
  },
  "cells": [
    {
      "cell_type": "markdown",
      "metadata": {
        "id": "view-in-github",
        "colab_type": "text"
      },
      "source": [
        "<a href=\"https://colab.research.google.com/github/vale-07-bit/PROGCOM-A/blob/main/Clase_8_POO_Programaci%C3%B3n_orientada_a_objetos.ipynb\" target=\"_parent\"><img src=\"https://colab.research.google.com/assets/colab-badge.svg\" alt=\"Open In Colab\"/></a>"
      ]
    },
    {
      "cell_type": "code",
      "execution_count": 4,
      "metadata": {
        "colab": {
          "base_uri": "https://localhost:8080/"
        },
        "id": "9GKcTufpNGiy",
        "outputId": "975b53b0-593c-4166-d688-ff1ed20c0e17"
      },
      "outputs": [
        {
          "output_type": "execute_result",
          "data": {
            "text/plain": [
              "['girasol', 'claveles', 'margarita']"
            ]
          },
          "metadata": {},
          "execution_count": 4
        }
      ],
      "source": [
        "#Floristería\n",
        "# 1. Conjunto de flores, se elige aleatoriamente una cantidad\n",
        "import random\n",
        "flores=[\"tulipán\", \"rosa\", \"dahlia\", \"margarita\", \"claveles\", \"lirio\", \"girasol\", \"clavel\", \"orquídea\"]\n",
        "seleccion=random. sample(flores,3)\n",
        "seleccion\n"
      ]
    },
    {
      "cell_type": "code",
      "source": [
        "def inventario():\n",
        "  flores=[\"tulipán\", \"rosa\", \"dahlia\", \"margarita\", \"claveles\", \"lirio\", \"girasol\", \"clavel\", \"orquídea\"]\n",
        "  seleccion=random. sample(flores,3)\n",
        "\n",
        "  inventario={\n",
        "      flor:{\n",
        "           \"precio\":random.randint(2000,6000),\n",
        "           \"cantidad\":random.randint(10,50),\n",
        "           \"vendidas\":0\n",
        "      } for flor in seleccion\n",
        "      }\n",
        "  return inventario"
      ],
      "metadata": {
        "id": "x_m355O8PQ9n"
      },
      "execution_count": 8,
      "outputs": []
    },
    {
      "cell_type": "code",
      "source": [
        "inventario()"
      ],
      "metadata": {
        "colab": {
          "base_uri": "https://localhost:8080/"
        },
        "id": "PEz9WdS9RB4G",
        "outputId": "6e35825e-3a77-4bad-ffcb-31d50b1100f8"
      },
      "execution_count": 15,
      "outputs": [
        {
          "output_type": "execute_result",
          "data": {
            "text/plain": [
              "{'clavel': {'precio': 4806, 'cantidad': 36, 'vendidas': 0},\n",
              " 'margarita': {'precio': 5695, 'cantidad': 45, 'vendidas': 0},\n",
              " 'rosa': {'precio': 2480, 'cantidad': 44, 'vendidas': 0}}"
            ]
          },
          "metadata": {},
          "execution_count": 15
        }
      ]
    },
    {
      "cell_type": "code",
      "source": [
        "flor=inventario()\n",
        "flor.items()\n"
      ],
      "metadata": {
        "colab": {
          "base_uri": "https://localhost:8080/"
        },
        "id": "PhXgOQnuSuXN",
        "outputId": "fbf06a48-c6f7-45d5-9d37-1dc2f233f571"
      },
      "execution_count": 16,
      "outputs": [
        {
          "output_type": "execute_result",
          "data": {
            "text/plain": [
              "dict_items([('orquídea', {'precio': 2060, 'cantidad': 14, 'vendidas': 0}), ('claveles', {'precio': 4244, 'cantidad': 32, 'vendidas': 0}), ('rosa', {'precio': 3298, 'cantidad': 49, 'vendidas': 0})])"
            ]
          },
          "metadata": {},
          "execution_count": 16
        }
      ]
    },
    {
      "cell_type": "code",
      "source": [
        "def menu(inventario):\n",
        "  print(\"\\n---MENÚ DE FLORES DISPONIBLES FLORISTERÍA CARLITOS---\")\n",
        "  for flor,datos in inventario.items():\n",
        "    print(f\"{flor}: ${datos[\"precio\"]} cant: {datos[\"cantidad\"]} disponibles\")\n",
        "  print(\"-----------------------------------------------------\")"
      ],
      "metadata": {
        "id": "2WYmALtAR-u-"
      },
      "execution_count": 27,
      "outputs": []
    },
    {
      "cell_type": "code",
      "source": [
        "menu(inventario())"
      ],
      "metadata": {
        "colab": {
          "base_uri": "https://localhost:8080/"
        },
        "id": "_AlV52ZgUVjM",
        "outputId": "d67f2011-bb0d-4404-c1a8-078457fe48cd"
      },
      "execution_count": 28,
      "outputs": [
        {
          "output_type": "stream",
          "name": "stdout",
          "text": [
            "\n",
            "---MENÚ DE FLORES DISPONIBLES FLORISTERÍA CARLITOS---\n",
            "dahlia: $3236 cant: 21 disponibles\n",
            "girasol: $4812 cant: 45 disponibles\n",
            "margarita: $3095 cant: 30 disponibles\n",
            "-----------------------------------------------------\n"
          ]
        }
      ]
    },
    {
      "cell_type": "code",
      "source": [
        "def ventas(inventario,flor,cantidad,total_ganado):\n",
        "  if flor not in inventario:\n",
        "    print(f\"{flor} no se encuentra a la venta🤷‍♀️\")\n",
        "    return total_ganado\n",
        "  datos=inventario[flor]\n",
        "  if cantidad>datos[\"cantidad\"]:\n",
        "    print(\"Los einto, no tenemos la cantidad solicitada\")\n",
        "    return total_ganado\n",
        "\n",
        "  #Realizando la venta\n",
        "  datos[\"cantidad\"]-=cantidad\n",
        "  datos[\"vendidas\"]+=cantidad\n",
        "  venta= datos[\"precio\"] * cantidad\n",
        "  total_ganado+=venta\n",
        "  print(f\"Vendidas:{cantidad} de {flor} por un total de ${venta}\")\n",
        "\n",
        "  #Si se acaba, eliminamos la flor\n",
        "  if datos[\"cantidad\"]==0:\n",
        "      print(f\"{flor} ha sido elimanada del inventario \")\n",
        "      del inventario [flor]\n",
        "  return total_ganado"
      ],
      "metadata": {
        "id": "CHwLLZVUVa6L"
      },
      "execution_count": 47,
      "outputs": []
    },
    {
      "cell_type": "code",
      "source": [
        "def cerrar_tienda(inventario_inicial, inventario_final,total_ganado):\n",
        "  print(\"n\\---Tienda Cerrada---\")\n",
        "  #Combinar el inventario inicial con el final para saber cuántas se vendieron n\n",
        "  flores_vendidas={}\n",
        "  for flor,datos in inventario_inicial. items():\n",
        "    cantidad_final=inventario_final.get(flor,{\"cantidad\":0}) [\"cantidad\"]\n",
        "    vendidas=datos[\"cantidad\"]-cantidad_final\n",
        "    flores_vendidas[flor]=vendidas\n",
        "\n",
        "#Determinar cuales fueron las más vendidas\n",
        "    mas_vendidas=max(flores_vendidas,key=flores_vendidas.get)\n",
        "    menos_vendidas=min(flores_vendidas, key=flores_vendidas.get)\n",
        "\n",
        "    print(f\"La flor más vendida fue {mas_vendidas}:{flores_vendidas[mas_vendidas]}\")\n",
        "    print(f\"La flor menos vendida fue {menos_vendidas}:{flores_vendidas[menos_vendidas]}\")\n"
      ],
      "metadata": {
        "colab": {
          "base_uri": "https://localhost:8080/"
        },
        "id": "4fmtnPDeaWIf",
        "outputId": "60d19dbc-9525-432c-c9d0-af39f61be279"
      },
      "execution_count": 54,
      "outputs": [
        {
          "output_type": "stream",
          "name": "stderr",
          "text": [
            "<>:2: SyntaxWarning: invalid escape sequence '\\-'\n",
            "<>:2: SyntaxWarning: invalid escape sequence '\\-'\n",
            "/tmp/ipython-input-2495217326.py:2: SyntaxWarning: invalid escape sequence '\\-'\n",
            "  print(\"n\\---Tienda Cerrada---\")\n"
          ]
        }
      ]
    },
    {
      "cell_type": "code",
      "source": [
        "flor"
      ],
      "metadata": {
        "colab": {
          "base_uri": "https://localhost:8080/"
        },
        "id": "QiPBhR_MeaqV",
        "outputId": "28900478-f537-4485-dff5-3c56544b626f"
      },
      "execution_count": 50,
      "outputs": [
        {
          "output_type": "execute_result",
          "data": {
            "text/plain": [
              "{'orquídea': {'precio': 2060, 'cantidad': 14, 'vendidas': 0},\n",
              " 'claveles': {'precio': 4244, 'cantidad': 32, 'vendidas': 0},\n",
              " 'rosa': {'precio': 3298, 'cantidad': 49, 'vendidas': 0}}"
            ]
          },
          "metadata": {},
          "execution_count": 50
        }
      ]
    },
    {
      "cell_type": "code",
      "source": [
        "total_ganado=0\n",
        "total_ganado=ventas(flor,\"rosa\",10, total_ganado)\n",
        "total_ganado=ventas(flor, \"claveles\", 18, total_ganado)\n",
        "total_ganado=ventas(flor, \"margarita\",80, total_ganado)"
      ],
      "metadata": {
        "colab": {
          "base_uri": "https://localhost:8080/"
        },
        "id": "MFK2TEsCeJzs",
        "outputId": "6e3376de-0dec-4582-9a15-31c2c6972304"
      },
      "execution_count": 52,
      "outputs": [
        {
          "output_type": "stream",
          "name": "stdout",
          "text": [
            "Vendidas:10 de rosa por un total de $32980\n",
            "Vendidas:18 de claveles por un total de $76392\n",
            "margarita no se encuentra a la venta🤷‍♀️\n"
          ]
        }
      ]
    },
    {
      "cell_type": "code",
      "source": [
        "menu(flor)"
      ],
      "metadata": {
        "colab": {
          "base_uri": "https://localhost:8080/"
        },
        "id": "d4-5x6n6e4Ne",
        "outputId": "09af3a51-55f1-4420-e636-b81086d87388"
      },
      "execution_count": 53,
      "outputs": [
        {
          "output_type": "stream",
          "name": "stdout",
          "text": [
            "\n",
            "---MENÚ DE FLORES DISPONIBLES FLORISTERÍA CARLITOS---\n",
            "orquídea: $2060 cant: 14 disponibles\n",
            "claveles: $4244 cant: 14 disponibles\n",
            "rosa: $3298 cant: 29 disponibles\n",
            "-----------------------------------------------------\n"
          ]
        }
      ]
    },
    {
      "cell_type": "code",
      "source": [
        "cerrar_tienda()"
      ],
      "metadata": {
        "colab": {
          "base_uri": "https://localhost:8080/",
          "height": 141
        },
        "id": "7f39ktsEfBdl",
        "outputId": "b38c65c1-60a5-417d-aeac-1caa68f3a70e"
      },
      "execution_count": 55,
      "outputs": [
        {
          "output_type": "error",
          "ename": "TypeError",
          "evalue": "cerrar_tienda() missing 3 required positional arguments: 'inventario_inicial', 'inventario_final', and 'total_ganado'",
          "traceback": [
            "\u001b[0;31m---------------------------------------------------------------------------\u001b[0m",
            "\u001b[0;31mTypeError\u001b[0m                                 Traceback (most recent call last)",
            "\u001b[0;32m/tmp/ipython-input-2169302219.py\u001b[0m in \u001b[0;36m<cell line: 0>\u001b[0;34m()\u001b[0m\n\u001b[0;32m----> 1\u001b[0;31m \u001b[0mcerrar_tienda\u001b[0m\u001b[0;34m(\u001b[0m\u001b[0;34m)\u001b[0m\u001b[0;34m\u001b[0m\u001b[0;34m\u001b[0m\u001b[0m\n\u001b[0m",
            "\u001b[0;31mTypeError\u001b[0m: cerrar_tienda() missing 3 required positional arguments: 'inventario_inicial', 'inventario_final', and 'total_ganado'"
          ]
        }
      ]
    }
  ]
}