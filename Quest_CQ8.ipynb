{
  "nbformat": 4,
  "nbformat_minor": 0,
  "metadata": {
    "colab": {
      "provenance": [],
      "authorship_tag": "ABX9TyMKOwB6Iw88ZTECb1lzj47J",
      "include_colab_link": true
    },
    "kernelspec": {
      "name": "python3",
      "display_name": "Python 3"
    },
    "language_info": {
      "name": "python"
    }
  },
  "cells": [
    {
      "cell_type": "markdown",
      "metadata": {
        "id": "view-in-github",
        "colab_type": "text"
      },
      "source": [
        "<a href=\"https://colab.research.google.com/github/vale-07-bit/PROGCOM-A/blob/main/Quest_CQ8.ipynb\" target=\"_parent\"><img src=\"https://colab.research.google.com/assets/colab-badge.svg\" alt=\"Open In Colab\"/></a>"
      ]
    },
    {
      "cell_type": "markdown",
      "source": [
        "# 10 ERRORES EN PYTHON."
      ],
      "metadata": {
        "id": "mZ8xiISQeSc3"
      }
    },
    {
      "cell_type": "markdown",
      "source": [
        "**1. IndentationError (Error de indentación)**\n",
        "\n",
        "- Ocurre cuando no se cumple la indentación (espacios) en estructuras como if, for, while, funciones, etc.\n",
        "- Solución: usar siempre la misma cantidad de espacios\n",
        "\n",
        "ERROR:\n",
        "```\n",
        "if True :\n",
        "print(\"Hola\")\n",
        "```\n",
        "SOLUCIÓN\n",
        "```\n",
        "if True :\n",
        "   print(\"Hola\")\n",
        "```\n",
        "**2. NameError (Variable no definida)**\n",
        "- Ocurre cuando se intenta usar una variable que no ha sido declarada.\n",
        "- Definir la variable antes de usarla.\n",
        "ERROR:\n",
        "```\n",
        "print(nombre)\n",
        "```\n",
        "SOLUCIÓN\n",
        "```\n",
        "nombre = Valery\n",
        "   print(nombre)\n",
        "```\n",
        "**3. TypeError**\n",
        "- Esto ocurre cuando se intenta operar datos de tipos distintos sin conversión, es decir letras con números,e ntre otros.\n",
        "- Se soluciona haciendo la conversión de tipos correcta.\n",
        "\n",
        "**4. ValueError (Valor incorrecto en conversión)**\n",
        "- Se produce cuando se intenta convertir un dato inválido, por ejemplo, texto a número.\n",
        "- Verificaras que el valor sea válido antes de convertir.\n",
        "\n",
        "**5. ZeroDivisionError (División por cero)**\n",
        "\n",
        "- Se produce al dividir un número entre 0.\n",
        "- Para ello se verifica que el divisor sea distinto de cero.\n",
        "\n",
        "**6. IndexError (Índice fuera de rango)**\n",
        "\n",
        "- Este ocurre cuando intentas acceder a una posición inexistente en una lista.\n",
        "- Para esto se debe omprobar el tamaño de la lista antes de acceder.\n",
        "\n",
        "**7. KeyError (Clave inexistente en un diccionario)**\n",
        "\n",
        "- Se produce al intentar acceder a una clave que no existe en un diccionario.\n",
        "- para esto se comprobar con in o usar .get().\n",
        "\n",
        "**8. AttributeError (Método o atributo inexistente)**\n",
        "\n",
        "- Se produce cuando se intenta usar un método que no corresponde al tipo de dato.\n",
        "-Para esto hay que usar los métodos correctos según el tipo.\n",
        "\n",
        "**9. ImportError / ModuleNotFoundError**\n",
        "\n",
        "- Sucede cuando se intenta importar un módulo que no existe o no está instalado.\n",
        "- se soluciona instalando el módulo con pip o verificar el nombre.\n",
        "\n",
        "**10. SyntaxError (Error de sintaxis)**\n",
        "\n",
        "- Se produce cuando se escribe mal la estructura del código.\n",
        "Para ello se debe revisar la sintaxis y cerrar correctamente comillas, paréntesis, etc.\n"
      ],
      "metadata": {
        "id": "XxFypvihfKRI"
      }
    },
    {
      "cell_type": "markdown",
      "source": [
        "\n"
      ],
      "metadata": {
        "id": "pwGcc3XZgw7F"
      }
    }
  ]
}