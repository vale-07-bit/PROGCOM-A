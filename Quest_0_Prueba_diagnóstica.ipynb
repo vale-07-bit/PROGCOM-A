{
  "nbformat": 4,
  "nbformat_minor": 0,
  "metadata": {
    "colab": {
      "provenance": []
    },
    "kernelspec": {
      "name": "python3",
      "display_name": "Python 3"
    },
    "language_info": {
      "name": "python"
    }
  },
  "cells": [
    {
      "cell_type": "markdown",
      "source": [
        "#Prueba diagnóstica"
      ],
      "metadata": {
        "id": "i_GXdufOKql1"
      }
    },
    {
      "cell_type": "markdown",
      "source": [
        "##Estructuras de selección\n",
        "Aquí se desarrollarán ejercicios sobre estructuras de selección.\n",
        "\n",
        "Por pseint\n",
        "\n",
        "\n",
        "```\n",
        "Si (condicion) entonces:\n",
        "  pasan cosas divertidas ⏰\n",
        "sino:\n",
        "  llórelo ☹\n",
        "\n",
        "```\n",
        "Por algoritmia\n",
        "\n",
        "1. Solicito la variable y la almaceno en a\n",
        "2. Comparo esa variable con otra llamada b\n"
      ],
      "metadata": {
        "id": "kwWOLEI7Kuwc"
      }
    },
    {
      "cell_type": "code",
      "execution_count": null,
      "metadata": {
        "id": "OJ4zTNoJInAM"
      },
      "outputs": [],
      "source": []
    }
  ]
}