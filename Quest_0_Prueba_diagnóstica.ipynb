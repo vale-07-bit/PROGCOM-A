{
  "nbformat": 4,
  "nbformat_minor": 0,
  "metadata": {
    "colab": {
      "provenance": [],
      "authorship_tag": "ABX9TyPjQRRjY8ybYsImFJMqqHUC",
      "include_colab_link": true
    },
    "kernelspec": {
      "name": "python3",
      "display_name": "Python 3"
    },
    "language_info": {
      "name": "python"
    }
  },
  "cells": [
    {
      "cell_type": "markdown",
      "metadata": {
        "id": "view-in-github",
        "colab_type": "text"
      },
      "source": [
        "<a href=\"https://colab.research.google.com/github/vale-07-bit/PROGCOM-A/blob/main/Quest_0_Prueba_diagn%C3%B3stica.ipynb\" target=\"_parent\"><img src=\"https://colab.research.google.com/assets/colab-badge.svg\" alt=\"Open In Colab\"/></a>"
      ]
    },
    {
      "cell_type": "markdown",
      "source": [
        "#Prueba diagnóstica"
      ],
      "metadata": {
        "id": "i_GXdufOKql1"
      }
    },
    {
      "cell_type": "markdown",
      "source": [
        "##Estructuras de selección\n",
        "Aquí se desarrollarán ejercicios sobre estructuras de selección.\n",
        "\n",
        "Por pseint\n",
        "\n",
        "\n",
        "```\n",
        "Si (condicion) entonces:\n",
        "  pasan cosas divertidas ⏰\n",
        "sino:\n",
        "  llórelo ☹\n",
        "\n",
        "```\n",
        "Por algoritmia\n",
        "\n",
        "1. Solicito la variable y la almaceno en a\n",
        "2. Comparo esa variable con otra llamada b\n"
      ],
      "metadata": {
        "id": "kwWOLEI7Kuwc"
      }
    },
    {
      "cell_type": "markdown",
      "source": [
        "##Parte 1: Estructuras de Decisión (10 ejercicios)\n",
        "\n",
        "1.\tEscribe un programa que reciba un número e indique si es positivo.\n",
        "\n",
        "\n",
        "\n",
        "```\n",
        "1 Algoritmo\n",
        "2 Determinar n como real\n",
        "3 Escribir \"Ingrese un número\"\n",
        "4 Leer n\n",
        "5 si n>0\n",
        "6  Escribir \"El número es positivo\"\n",
        "7 sino\n",
        "8  Escribir \"El número es negativo\"\n",
        "9 Fin\n",
        "```\n",
        "\n"
      ],
      "metadata": {
        "id": "4oNniivDVQuc"
      }
    },
    {
      "cell_type": "markdown",
      "source": [
        "2.\tEscribe un programa que reciba una edad y determine si la persona es mayor de edad.\n",
        "\n",
        "\n",
        "```\n",
        "1 Algoritmo\n",
        "2 Determinar edad como entero\n",
        "3 Escribir \"Ingrese una edad\"\n",
        "4 Leer edad\n",
        "5 si edad>18 entonces\n",
        "6  Escribir \"La persona es mayor de edad\"\n",
        "7 sino\n",
        "8  Escribir \"La persona es menor de edad\"\n",
        "9 Fin\n",
        "```\n",
        "\n",
        "\n"
      ],
      "metadata": {
        "id": "Vdlgsq3DVy-s"
      }
    },
    {
      "cell_type": "markdown",
      "source": [
        "3. Escribe un programa que reciba dos números e imprima el mayor.\n",
        "\n",
        "\n",
        "\n",
        "```\n",
        "1 Algoritmo\n",
        "2 Determinar a, b como real\n",
        "3 Escribir \"Ingrese un número\"\n",
        "4 Leer a\n",
        "5 Escribir \"Ingrese otro numero\"\n",
        "6 Leer b\n",
        "7 si a>b entonces\n",
        "8  Escribir a, \" es mayor que \" , b\n",
        "9 sino\n",
        "10 Escribir b, \"es mayor que \" , a\n",
        "11 Fin\n",
        "```\n",
        "\n"
      ],
      "metadata": {
        "id": "RLEh2_nPWoy7"
      }
    },
    {
      "cell_type": "markdown",
      "source": [
        "4. Escribe un programa que reciba una calificación (0-100) e indique si es Aprobado (>=60) o Reprobado\n",
        "\n",
        "\n",
        "```\n",
        "1 Algoritmo\n",
        "2 Determinar nota como entero\n",
        "3 Escribir \" Ingree la calificaión a evaluar\"\n",
        "4 Leer nota\n",
        "5 si not=>60 entonces\n",
        "6  Escribir \"Aprobado\"\n",
        "7 sino\n",
        "8 Escribir \"Reprobado\"\n",
        "9 Fin\n",
        "```\n",
        "\n"
      ],
      "metadata": {
        "id": "TfaVsSoIYAwi"
      }
    },
    {
      "cell_type": "markdown",
      "source": [
        "5.\tEscribe un programa que determine si un número es par o impar.\n",
        "\n",
        "\n",
        "```\n",
        "1 Algoritmo\n",
        "2 Determinar n como entero\n",
        "3 Escribir \"Ingrese el número\"\n",
        "4 Leer n\n",
        "5 si n mod 2=0 entonces\n",
        "6  Escribir \"El numero es par\"\n",
        "7 sino\n",
        "8  Escribir \"El numero es impar\"\n",
        "9 Fin\n",
        "```\n",
        "\n"
      ],
      "metadata": {
        "id": "Y-hJO4YYY6vy"
      }
    },
    {
      "cell_type": "markdown",
      "source": [
        "6.\tEscribe un programa que reciba tres números e imprima el mayor de los tres.\n",
        "\n",
        "```\n",
        "1 Algoritmo\n",
        "2 Determinar a,b,c como entero\n",
        "3 Escribir \"Ingrese un numero\"\n",
        "4 Leer a\n",
        "5 Escribir \"Ingrese un numero\"\n",
        "6 Leer b\n",
        "7 Escribir \"Ingrese un numero\"\n",
        "8 Leer c\n",
        "9 si a>b y a>c entonces\n",
        "10  Escribir a \" e mayor que \",b , \"y \", c\n",
        "11 sino\n",
        "12  si b>c y b>a entonces\n",
        "13    Escribir b \" es mayor que \", a, \" y \", c\n",
        "14  sino\n",
        "15    Escribir c \"es mayor que \", a, \" y  \", b\n",
        "16 Fin\n",
        "```\n",
        "\n",
        "\n",
        "\n"
      ],
      "metadata": {
        "id": "tYEM6iuZZti4"
      }
    },
    {
      "cell_type": "markdown",
      "source": [
        "7.\tEscribe un programa que reciba un año e indique si es bisiesto.\n",
        "8. Escribe un programa que reciba una contraseña e indique si cumple con las siguientes reglas: más de 8 caracteres, contiene al menos un número y una letra mayúscula.\n",
        "9.\tEscribe un programa que lea un número e imprima “Fizz” si es divisible por 3, “Buzz” si es divisible por 5 y “FizzBuzz” si es divisible por ambos.\n",
        "10.\tEscribe un programa que simule un cajero automático: recibe el monto a retirar e imprime si la operación es posible en base al saldo disponible.\n"
      ],
      "metadata": {
        "id": "E3PLHJgybr3o"
      }
    },
    {
      "cell_type": "markdown",
      "source": [
        "##Parte 2: Estructuras de Repetición (10 ejercicios)\n",
        "1\tEscribe un programa que imprima los números del 1 al 10.\n",
        "\n",
        "\n",
        "```\n",
        "# Tiene formato de código\n",
        "```\n",
        "\n",
        "\n"
      ],
      "metadata": {
        "id": "diznW5fBb6GP"
      }
    },
    {
      "cell_type": "code",
      "execution_count": null,
      "metadata": {
        "id": "OJ4zTNoJInAM"
      },
      "outputs": [],
      "source": []
    }
  ]
}