{
  "nbformat": 4,
  "nbformat_minor": 0,
  "metadata": {
    "colab": {
      "provenance": [],
      "authorship_tag": "ABX9TyPXC176QgEHA7Ezi3IQLA1z",
      "include_colab_link": true
    },
    "kernelspec": {
      "name": "python3",
      "display_name": "Python 3"
    },
    "language_info": {
      "name": "python"
    }
  },
  "cells": [
    {
      "cell_type": "markdown",
      "metadata": {
        "id": "view-in-github",
        "colab_type": "text"
      },
      "source": [
        "<a href=\"https://colab.research.google.com/github/vale-07-bit/PROGCOM-A/blob/main/Clase_1_Estructuras_de_selecci%C3%B3n.ipynb\" target=\"_parent\"><img src=\"https://colab.research.google.com/assets/colab-badge.svg\" alt=\"Open In Colab\"/></a>"
      ]
    },
    {
      "cell_type": "markdown",
      "source": [
        "#Estructuras de selección\n",
        "\n",
        "Se emplean cuando se debe evaluar una condición y esta da un valor (V) o (F).\n",
        "\n",
        "\n",
        "```\n",
        "if (condición):\n",
        " entro aquí, si la condición es V.\n",
        "else:\n",
        " entro aquí, si la condición es F.\n",
        "```\n",
        "\n",
        "\n",
        "\n"
      ],
      "metadata": {
        "id": "Wl8Pa2dcsHjL"
      }
    },
    {
      "cell_type": "code",
      "execution_count": 2,
      "metadata": {
        "colab": {
          "base_uri": "https://localhost:8080/"
        },
        "id": "k1uU9aHyrgXa",
        "outputId": "75edba75-b417-4831-eff7-95ef7cad8a82"
      },
      "outputs": [
        {
          "output_type": "stream",
          "name": "stdout",
          "text": [
            "Ingrese un número 02\n",
            "2 es un número positivo\n"
          ]
        }
      ],
      "source": [
        "#Escribe un programa que reciba un número e indique si es positivo\n",
        "n=int(input(\"Ingrese un número \"))\n",
        "if n>0:\n",
        " print (f\"{n} es un número positivo\")\n",
        "else:\n",
        " print(n, \"NO es un número positivo\")"
      ]
    },
    {
      "cell_type": "markdown",
      "source": [
        "#Selección Múltiple\n",
        "**if- elif- else**\n",
        "\n",
        "\n",
        "\n",
        "```\n",
        "if (condicion):\n",
        " si se cumple condición 1. entro aquí.\n",
        "elif:\n",
        " si no se cumple condición 1, peros si se cumple condición 2, entro aquí.\n",
        "else: Si no se cumple ninguna de las anteriores.\n",
        "```\n",
        "\n",
        "\n"
      ],
      "metadata": {
        "id": "htMxIj5fy-H9"
      }
    },
    {
      "cell_type": "code",
      "source": [
        "#Escribe un programa que reciba un número e indique si es positivo\n",
        "n=int(input(\"Ingrese un número \"))\n",
        "if n>0:\n",
        " print (f\"{n} es un número positivo\")\n",
        "elif n<0:\n",
        "  print(n, \"NO es un número positivo\")\n",
        "else:\n",
        " print(n, \"es 0 y es un número positivo\")"
      ],
      "metadata": {
        "colab": {
          "base_uri": "https://localhost:8080/"
        },
        "id": "Ae1zjzX7z489",
        "outputId": "0eab1640-0b55-4bfd-e21d-275fdeace585"
      },
      "execution_count": 6,
      "outputs": [
        {
          "output_type": "stream",
          "name": "stdout",
          "text": [
            "Ingrese un número -2\n",
            "-2 NO es un número positivo\n"
          ]
        }
      ]
    },
    {
      "cell_type": "markdown",
      "source": [
        "##Operador terniario\n",
        "Se usa cuando hay una condición a evaluar simple y se desea resolver en una línea de código.\n",
        "\n",
        "\n",
        "```\n",
        "(valor de verdad V) if (condición) else (valor de verdad F).\n",
        "```\n",
        "\n"
      ],
      "metadata": {
        "id": "gxonUKzW0vnU"
      }
    },
    {
      "cell_type": "code",
      "source": [
        "print (f\"{n} es un número positivo\") if n>=0 else print(f\"{n} es un número negativo\")"
      ],
      "metadata": {
        "colab": {
          "base_uri": "https://localhost:8080/"
        },
        "id": "vVTLQw4h2DJC",
        "outputId": "458b8698-b19c-4251-c2f2-87c18376d355"
      },
      "execution_count": 11,
      "outputs": [
        {
          "output_type": "stream",
          "name": "stdout",
          "text": [
            "-2 es un número negativo\n"
          ]
        }
      ]
    },
    {
      "cell_type": "markdown",
      "source": [
        "#EJERCICIOS DE LA PRUEBA DIAGNOSTICO\n",
        "\n",
        "2\tEscribe un programa que reciba una edad y determine si la persona es mayor de edad."
      ],
      "metadata": {
        "id": "j2FC2HqG6CVX"
      }
    },
    {
      "cell_type": "code",
      "source": [
        "n=int(input(\" ingresa una edad \"))\n",
        "if n>=18:\n",
        "  print(\" es mayor de edad\")\n",
        "else:\n",
        "  print(\" es menor de edad\")"
      ],
      "metadata": {
        "colab": {
          "base_uri": "https://localhost:8080/"
        },
        "id": "SD0wC3yY6sq_",
        "outputId": "92e54738-2469-42a0-feb3-0edeeea9c534"
      },
      "execution_count": 16,
      "outputs": [
        {
          "output_type": "stream",
          "name": "stdout",
          "text": [
            " ingresa una edad 17\n",
            " es menor de edad\n"
          ]
        }
      ]
    },
    {
      "cell_type": "markdown",
      "source": [
        "3\tEscribe un programa que reciba dos números e imprima el mayor."
      ],
      "metadata": {
        "id": "2FOpM9gG6uM_"
      }
    },
    {
      "cell_type": "code",
      "source": [
        "a=int(input(\"ingresa un numero \"))\n",
        "b=int(input(\"ingresa otro numero \"))\n",
        "if a>b:\n",
        "  print(a, \"es mayor\")\n",
        "else:\n",
        "  print(b, \"es mayor\")"
      ],
      "metadata": {
        "colab": {
          "base_uri": "https://localhost:8080/"
        },
        "id": "O6H7P2Mq6xTm",
        "outputId": "356bdaf4-41b1-4887-abdb-2fd59612d6eb"
      },
      "execution_count": 43,
      "outputs": [
        {
          "output_type": "stream",
          "name": "stdout",
          "text": [
            "ingresa un numero 6\n",
            "ingresa otro numero 7\n",
            "7 es mayor\n"
          ]
        }
      ]
    },
    {
      "cell_type": "code",
      "source": [
        "if a>b:print(f\"{a} es mayor\")\n",
        "elif b>a:print(f\"{b} es mayor\")\n",
        "else:print(f\"NO es mayor\")"
      ],
      "metadata": {
        "colab": {
          "base_uri": "https://localhost:8080/"
        },
        "id": "O9B5Xn6dCHZw",
        "outputId": "3251c674-5ee1-4565-9452-8a292adc3a6f"
      },
      "execution_count": 44,
      "outputs": [
        {
          "output_type": "stream",
          "name": "stdout",
          "text": [
            "7 es mayor\n"
          ]
        }
      ]
    },
    {
      "cell_type": "code",
      "source": [
        "print(f\"{a} es mayor\") if a>b else print(f\"{b} es mayor \")"
      ],
      "metadata": {
        "colab": {
          "base_uri": "https://localhost:8080/"
        },
        "id": "um63di3kCQNI",
        "outputId": "70a5c433-2a1e-46d3-de74-7b54586ad168"
      },
      "execution_count": 48,
      "outputs": [
        {
          "output_type": "stream",
          "name": "stdout",
          "text": [
            "7 es mayor \n"
          ]
        }
      ]
    },
    {
      "cell_type": "markdown",
      "source": [
        "4\tEscribe un programa que reciba una calificación (0-100) e indique si es Aprobado (>=60) o Reprobado."
      ],
      "metadata": {
        "id": "biEaLmk66yPu"
      }
    },
    {
      "cell_type": "code",
      "source": [
        "n=int(input(\"Ingrese su calificacion \"))\n",
        "if n>=60:\n",
        "  print (f\"{n} aprobo\")\n",
        "else:\n",
        "  print (n, \"No aprobo\")"
      ],
      "metadata": {
        "colab": {
          "base_uri": "https://localhost:8080/"
        },
        "id": "LtwYVMi464ce",
        "outputId": "4ebaf4a9-6d99-49a9-9a60-0ddad2ee9b06"
      },
      "execution_count": 28,
      "outputs": [
        {
          "output_type": "stream",
          "name": "stdout",
          "text": [
            "Ingrese su calificacion 52\n",
            "52 No aprobo\n"
          ]
        }
      ]
    },
    {
      "cell_type": "code",
      "source": [
        "n=int(input(\"Ingrese su calificacion \"))\n",
        "print (f\"{n} Aprobo\") if n>=60 else print(f\"{n} No aprobo\")"
      ],
      "metadata": {
        "colab": {
          "base_uri": "https://localhost:8080/"
        },
        "id": "M1Po3TXP_rh6",
        "outputId": "be71af5a-85b8-4769-970a-8cd230651ac9"
      },
      "execution_count": 50,
      "outputs": [
        {
          "output_type": "stream",
          "name": "stdout",
          "text": [
            "Ingrese su calificacion 52\n",
            "52 No aprobo\n"
          ]
        }
      ]
    },
    {
      "cell_type": "markdown",
      "source": [
        "5\tEscribe un programa que determine si un número es par o impar."
      ],
      "metadata": {
        "id": "E0YbUolm64vv"
      }
    },
    {
      "cell_type": "code",
      "source": [
        "a=int(input(\"Ingrese un número\"))\n",
        "if a%2==0:\n",
        " print (f\"{a} es un número par\")\n",
        "else:\n",
        " print (a, \"es un número impar\")"
      ],
      "metadata": {
        "colab": {
          "base_uri": "https://localhost:8080/"
        },
        "id": "EwdCQwYY68Au",
        "outputId": "350b2924-7429-4237-dc80-0fdd755ed26d"
      },
      "execution_count": 22,
      "outputs": [
        {
          "output_type": "stream",
          "name": "stdout",
          "text": [
            "Ingrese un número3\n",
            "3 es un número impar\n"
          ]
        }
      ]
    },
    {
      "cell_type": "code",
      "source": [
        "a=int(input(\"Ingrese un número \"))\n",
        "if a==0:\n",
        " print (a, \"es 0\")\n",
        "elif a%2==0:\n",
        " print (f\"{a} es un número par\")\n",
        "else:\n",
        " print (a, \"es un número impar\")"
      ],
      "metadata": {
        "colab": {
          "base_uri": "https://localhost:8080/"
        },
        "id": "f1qMi2D_AhsB",
        "outputId": "04311af2-4aee-45e4-c11c-ca9d5175ef0b"
      },
      "execution_count": 40,
      "outputs": [
        {
          "output_type": "stream",
          "name": "stdout",
          "text": [
            "Ingrese un número 15\n",
            "15 es un número impar\n"
          ]
        }
      ]
    },
    {
      "cell_type": "markdown",
      "source": [
        "6\tEscribe un programa que reciba tres números e imprima el mayor de los tres.\n"
      ],
      "metadata": {
        "id": "eAnWOPAs68Rm"
      }
    },
    {
      "cell_type": "code",
      "source": [
        "n=int(input(\"Ingrese un número \"))\n",
        "m=int(input(\"Ingrese un número \"))\n",
        "p=int(input(\"Ingrese un número \"))\n",
        "if n>m and n>p:\n",
        " print (f\"{n} es mayor\")\n",
        "elif m>n and m>p:\n",
        "  print(f\"{m} es mayor\")\n",
        "else:\n",
        " print(p, \"es mayor\")"
      ],
      "metadata": {
        "colab": {
          "base_uri": "https://localhost:8080/"
        },
        "id": "cgsJsS0E6_NG",
        "outputId": "3fca1859-c7b0-4515-c229-577075fda26d"
      },
      "execution_count": 13,
      "outputs": [
        {
          "output_type": "stream",
          "name": "stdout",
          "text": [
            "Ingrese un número 5\n",
            "Ingrese un número 4\n",
            "Ingrese un número 8\n",
            "8 es mayor\n"
          ]
        }
      ]
    },
    {
      "cell_type": "markdown",
      "source": [
        "7\tEscribe un programa que reciba un año e indique si es bisiesto."
      ],
      "metadata": {
        "id": "E7edbtjx6_dW"
      }
    },
    {
      "cell_type": "code",
      "source": [
        "print(\"calcula un año bisiesto\")\n",
        "a = int(input(\"digite un año al azar \"))\n",
        "if a % 4 == 0 and a % 400 == 0:\n",
        "  print(\"sí es año bisiesto \")\n",
        "else:\n",
        "  print(\"no es año bisiesto\")"
      ],
      "metadata": {
        "colab": {
          "base_uri": "https://localhost:8080/"
        },
        "id": "ty8GYg4o7CAO",
        "outputId": "a23035ec-c010-42b2-a283-08eeb626aa3e"
      },
      "execution_count": 19,
      "outputs": [
        {
          "output_type": "stream",
          "name": "stdout",
          "text": [
            "calcula un año bisiesto\n",
            "digite un año al azar 1258\n",
            "no es año bisiesto\n"
          ]
        }
      ]
    },
    {
      "cell_type": "markdown",
      "source": [
        "8\tEscribe un programa que reciba una contraseña e indique si cumple con las siguientes reglas: más de 8 caracteres, contiene al menos un número y una letra mayúscula."
      ],
      "metadata": {
        "id": "DKUnfsqL-5Gs"
      }
    },
    {
      "cell_type": "code",
      "source": [
        "contraseña= input(\"Digita la contraseña de al menos 8 caracteres: \")\n",
        "\n",
        "tiene_longitud = len(contraseña) >= 8\n",
        "tiene_numero = any(caracter.isdigit() for caracter in contraseña)\n",
        "tiene_mayuscula = any(caracter.isupper() for caracter in contraseña)\n",
        "\n",
        "if tiene_longitud and tiene_numero and tiene_mayuscula:\n",
        "    print(f\"{contraseña} es válida\")\n",
        "else:\n",
        "    print(f\"{contraseña} no es válida\")"
      ],
      "metadata": {
        "colab": {
          "base_uri": "https://localhost:8080/"
        },
        "id": "N1dgUISz-_8L",
        "outputId": "8118be12-aeed-44f6-935f-0ef45ce241eb"
      },
      "execution_count": 25,
      "outputs": [
        {
          "output_type": "stream",
          "name": "stdout",
          "text": [
            "Digita la contraseña de al menos 8 caracteres: Hkue1254\n",
            "Hkue1254 es válida\n"
          ]
        }
      ]
    }
  ]
}