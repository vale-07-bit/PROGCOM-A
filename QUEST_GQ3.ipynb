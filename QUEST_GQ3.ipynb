{
  "nbformat": 4,
  "nbformat_minor": 0,
  "metadata": {
    "colab": {
      "provenance": [],
      "authorship_tag": "ABX9TyO4FXeXdEPC+8dGWXoxr91M",
      "include_colab_link": true
    },
    "kernelspec": {
      "name": "python3",
      "display_name": "Python 3"
    },
    "language_info": {
      "name": "python"
    }
  },
  "cells": [
    {
      "cell_type": "markdown",
      "metadata": {
        "id": "view-in-github",
        "colab_type": "text"
      },
      "source": [
        "<a href=\"https://colab.research.google.com/github/vale-07-bit/PROGCOM-A/blob/main/QUEST_GQ3.ipynb\" target=\"_parent\"><img src=\"https://colab.research.google.com/assets/colab-badge.svg\" alt=\"Open In Colab\"/></a>"
      ]
    },
    {
      "cell_type": "markdown",
      "source": [
        "Vamos a calcular el campo eléctrico y el flujo eléctrico generad por una carga Q sobre otra carga Q1. Donde la carga Q= 0.003 C y Q1= 0.002 C y están separadas a una distancia de 0.4 m.\n"
      ],
      "metadata": {
        "id": "Ig7ubAyjy6uX"
      }
    },
    {
      "cell_type": "code",
      "execution_count": 6,
      "metadata": {
        "colab": {
          "base_uri": "https://localhost:8080/"
        },
        "id": "eG0B5gS0yyen",
        "outputId": "10b13b86-0aad-4efd-c9e7-34bda4b8307b"
      },
      "outputs": [
        {
          "output_type": "stream",
          "name": "stdout",
          "text": [
            "Ingrese el valor de la carga: 0.003\n",
            "Ingrese el valor de la carga 2: 0.002\n",
            "Ingrese el valor de la distancia a la que están las cargas: 0.4\n",
            "El campo eléctrico es:  337499.99999999994 N/C\n",
            "El flujo eléctrico equivale a : 134999.99999999997 Vm\n"
          ]
        }
      ],
      "source": [
        "K=9*(10**9)\n",
        "Q=float(input(\"Ingrese el valor de la carga: \"))\n",
        "Q1=float(input(\"Ingrese el valor de la carga 2: \"))\n",
        "r=float(input(\"Ingrese el valor de la distancia a la que están las cargas: \"))\n",
        "E= K*((Q*Q1)/(r**2))\n",
        "F=E*r\n",
        "print(\"El campo eléctrico es: \",  E, \"N/C\")\n",
        "print(\"El flujo eléctrico equivale a :\", F, \"Vm\")"
      ]
    }
  ]
}