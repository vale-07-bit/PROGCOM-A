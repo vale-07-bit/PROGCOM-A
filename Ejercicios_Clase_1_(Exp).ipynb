{
  "nbformat": 4,
  "nbformat_minor": 0,
  "metadata": {
    "colab": {
      "provenance": [],
      "authorship_tag": "ABX9TyN1F3VEHJWAE0UgRbk5Lp/4",
      "include_colab_link": true
    },
    "kernelspec": {
      "name": "python3",
      "display_name": "Python 3"
    },
    "language_info": {
      "name": "python"
    }
  },
  "cells": [
    {
      "cell_type": "markdown",
      "metadata": {
        "id": "view-in-github",
        "colab_type": "text"
      },
      "source": [
        "<a href=\"https://colab.research.google.com/github/vale-07-bit/PROGCOM-A/blob/main/Ejercicios_Clase_1_(Exp).ipynb\" target=\"_parent\"><img src=\"https://colab.research.google.com/assets/colab-badge.svg\" alt=\"Open In Colab\"/></a>"
      ]
    },
    {
      "cell_type": "markdown",
      "source": [
        "#EJERCICIOS PARA PUNTOS\n",
        "\n",
        "2. Escribe un programa que reciba una edad y determine si la persona es mayor de edad.\n",
        "\n"
      ],
      "metadata": {
        "id": "lnqeGbgBfO9n"
      }
    },
    {
      "cell_type": "markdown",
      "source": [
        "- Forma 1\n"
      ],
      "metadata": {
        "id": "9S_waU-BfYok"
      }
    },
    {
      "cell_type": "code",
      "source": [
        "edad = int(input(\"Ingresa tu edad: \"))\n",
        "if edad >= 18:\n",
        " print(\"Eres mayor de edad\")\n",
        "else:\n",
        " print(\"Eres menor de edad\")"
      ],
      "metadata": {
        "colab": {
          "base_uri": "https://localhost:8080/"
        },
        "id": "fwpX_LVJfXQV",
        "outputId": "172285fb-f109-4c4c-a642-ed4ae20839a2"
      },
      "execution_count": 1,
      "outputs": [
        {
          "output_type": "stream",
          "name": "stdout",
          "text": [
            "Ingresa tu edad: 18\n",
            "Eres mayor de edad\n"
          ]
        }
      ]
    },
    {
      "cell_type": "markdown",
      "source": [
        "- Forma 2\n"
      ],
      "metadata": {
        "id": "ztnzU804gfU_"
      }
    },
    {
      "cell_type": "code",
      "execution_count": 18,
      "metadata": {
        "colab": {
          "base_uri": "https://localhost:8080/"
        },
        "id": "qxMqGaixe5Hc",
        "outputId": "18f86986-124b-4472-8bcd-f8f754bece1a"
      },
      "outputs": [
        {
          "output_type": "stream",
          "name": "stdout",
          "text": [
            "Ingresa tu edad: 17\n",
            "Eres menor de edad\n"
          ]
        }
      ],
      "source": [
        "edad = int(input(\"Ingresa tu edad: \"))\n",
        "if edad== 0:\n",
        "  print (\"La edad es 0\")\n",
        "elif edad >= 18:\n",
        "  print(\"Eres mayor de edad\")\n",
        "else:\n",
        "  print(\"Eres menor de edad\")"
      ]
    },
    {
      "cell_type": "markdown",
      "source": [
        "- Forma 3\n"
      ],
      "metadata": {
        "id": "ePaoeu_AhRHA"
      }
    },
    {
      "cell_type": "code",
      "source": [
        "(print(\"Eres mayor de edad\")) if edad >= 18 else print(\"Eres menor de edad\")"
      ],
      "metadata": {
        "colab": {
          "base_uri": "https://localhost:8080/"
        },
        "id": "h7aXCm6ghUOd",
        "outputId": "c998c8b6-432f-44a5-fbcc-175f71405223"
      },
      "execution_count": 19,
      "outputs": [
        {
          "output_type": "stream",
          "name": "stdout",
          "text": [
            "Eres menor de edad\n"
          ]
        }
      ]
    },
    {
      "cell_type": "markdown",
      "source": [
        "3. Escribe un programa que reciba dos números e imprima el mayor.\n",
        "- Forma 1"
      ],
      "metadata": {
        "id": "znopCohdhmUU"
      }
    },
    {
      "cell_type": "code",
      "source": [
        "a = int(input(\"Ingresa el primer número: \"))\n",
        "b = int(input(\"Ingresa el segundo número: \"))\n",
        "if a > b:\n",
        "  print(f\"El mayor es: {a}\")\n",
        "else:\n",
        "  print(f\"El mayor es: {b}\")"
      ],
      "metadata": {
        "colab": {
          "base_uri": "https://localhost:8080/"
        },
        "id": "AOlX9SIrhp61",
        "outputId": "c4ab29c6-224b-4814-f1c6-b6020078f27d"
      },
      "execution_count": 13,
      "outputs": [
        {
          "output_type": "stream",
          "name": "stdout",
          "text": [
            "Ingresa el primer número: 1\n",
            "Ingresa el segundo número: 2\n",
            "El mayor es: 2\n"
          ]
        }
      ]
    },
    {
      "cell_type": "markdown",
      "source": [
        "- Forma 2\n"
      ],
      "metadata": {
        "id": "dhg6uS_hidFG"
      }
    },
    {
      "cell_type": "code",
      "source": [
        "a = int(input(\"Ingresa el primer número: \"))\n",
        "b = int(input(\"Ingresa el segundo número: \"))\n",
        "if a==b:\n",
        "  print(f\"{a} y {b} son iguales\")\n",
        "elif b > a:\n",
        "  print(f\"El mayor es: {b}\")\n",
        "else:\n",
        "  print(f\"El mayor es: {a}\")"
      ],
      "metadata": {
        "colab": {
          "base_uri": "https://localhost:8080/"
        },
        "id": "zVn-7LUOieex",
        "outputId": "ebbfcbb3-a332-4bc7-bab7-ebedd5d5b475"
      },
      "execution_count": 15,
      "outputs": [
        {
          "output_type": "stream",
          "name": "stdout",
          "text": [
            "Ingresa el primer número: 3\n",
            "Ingresa el segundo número: 4\n",
            "El mayor es: 4\n"
          ]
        }
      ]
    },
    {
      "cell_type": "markdown",
      "source": [
        "-Forma 3\n"
      ],
      "metadata": {
        "id": "eTvn-xc4jFV4"
      }
    },
    {
      "cell_type": "code",
      "source": [
        "print(f\"El mayor es: {a}\") if a>b else print(f\"El mayor es: {b}\")"
      ],
      "metadata": {
        "colab": {
          "base_uri": "https://localhost:8080/"
        },
        "id": "EKK4BumQjGhl",
        "outputId": "60aeb49c-833a-4ecc-d927-4f55e10d0747"
      },
      "execution_count": 16,
      "outputs": [
        {
          "output_type": "stream",
          "name": "stdout",
          "text": [
            "El mayor es: 4\n"
          ]
        }
      ]
    },
    {
      "cell_type": "markdown",
      "source": [
        "4. Escribe un programa que reciba una calificación (0-100) e indique si es Aprobado (>=60) o Reprobado."
      ],
      "metadata": {
        "id": "Ow_BXnLFhxWO"
      }
    },
    {
      "cell_type": "markdown",
      "source": [
        "-Forma 1"
      ],
      "metadata": {
        "id": "W2XfbsLCkcg3"
      }
    },
    {
      "cell_type": "code",
      "source": [
        "nota = int(input(\"Ingresa tu calificación (0-100): \"))\n",
        "if nota >= 60:\n",
        "  print(\"Aprobado\")\n",
        "else:\n",
        "  print(\"Reprobado\")"
      ],
      "metadata": {
        "colab": {
          "base_uri": "https://localhost:8080/"
        },
        "id": "4jLbeX5Ckb_i",
        "outputId": "be7d8df7-2bf9-47dd-d571-b9b210e573e6"
      },
      "execution_count": 21,
      "outputs": [
        {
          "output_type": "stream",
          "name": "stdout",
          "text": [
            "Ingresa tu calificación (0-100): 75\n",
            "Aprobado\n"
          ]
        }
      ]
    },
    {
      "cell_type": "markdown",
      "source": [
        "-Forma 2"
      ],
      "metadata": {
        "id": "Aq43boLWkowv"
      }
    },
    {
      "cell_type": "code",
      "source": [
        "nota = int(input(\"Ingresa tu calificación (0-100): \"))\n",
        "if nota > 100:\n",
        "  print(\"Su nota debe ser entre 0-100\")\n",
        "elif nota >= 60:\n",
        "  print(\"Aprobado\")\n",
        "else:\n",
        "  print(\"Reprobado\")"
      ],
      "metadata": {
        "colab": {
          "base_uri": "https://localhost:8080/"
        },
        "id": "SYivcXwlkqJt",
        "outputId": "146ad460-04a5-4c97-e57c-306b36a776b6"
      },
      "execution_count": 24,
      "outputs": [
        {
          "output_type": "stream",
          "name": "stdout",
          "text": [
            "Ingresa tu calificación (0-100): 65\n",
            "Aprobado\n"
          ]
        }
      ]
    },
    {
      "cell_type": "markdown",
      "source": [
        "-Forma 3"
      ],
      "metadata": {
        "id": "xBS3wq06lFvc"
      }
    },
    {
      "cell_type": "code",
      "source": [
        "print(\"Aprobado\") if nota >= 60 else print(\"Reprobado\")"
      ],
      "metadata": {
        "colab": {
          "base_uri": "https://localhost:8080/"
        },
        "id": "m8JTdJAAlG0r",
        "outputId": "95ebe35c-ed09-41bc-a930-3da3f85ac30b"
      },
      "execution_count": 25,
      "outputs": [
        {
          "output_type": "stream",
          "name": "stdout",
          "text": [
            "Aprobado\n"
          ]
        }
      ]
    },
    {
      "cell_type": "markdown",
      "source": [
        "5. Escribe un programa que determine si un número es par o impar.\n",
        "- Forma 1"
      ],
      "metadata": {
        "id": "jDcK_JH2hyf_"
      }
    },
    {
      "cell_type": "code",
      "source": [
        "n= int(input(\"Ingresa un número: \"))\n",
        "if n % 2 == 0:\n",
        "    print(\" El número es par\")\n",
        "else:\n",
        "    print(\"El número es impar\")"
      ],
      "metadata": {
        "colab": {
          "base_uri": "https://localhost:8080/"
        },
        "id": "iyOVEQQNld8i",
        "outputId": "c151ac1a-9eae-44ae-f1db-5e76c0b2e137"
      },
      "execution_count": 27,
      "outputs": [
        {
          "output_type": "stream",
          "name": "stdout",
          "text": [
            "Ingresa un número: 5\n",
            "El número es impar\n"
          ]
        }
      ]
    },
    {
      "cell_type": "markdown",
      "source": [
        "- Forma 2"
      ],
      "metadata": {
        "id": "4jRmuUqLlSsj"
      }
    },
    {
      "cell_type": "code",
      "source": [
        "n= int(input(\"Ingresa un número: \"))\n",
        "if n==0:\n",
        "  print(\"El número es 0\")\n",
        "elif n % 2 == 0:\n",
        "    print(\" El número es par\")\n",
        "else:\n",
        "    print(\"El número es impar\")"
      ],
      "metadata": {
        "colab": {
          "base_uri": "https://localhost:8080/"
        },
        "id": "vHAIj4JqlWKf",
        "outputId": "526437e9-4c7b-4a48-e6d8-afd65c6d37d0"
      },
      "execution_count": 29,
      "outputs": [
        {
          "output_type": "stream",
          "name": "stdout",
          "text": [
            "Ingresa un número: 6\n",
            " El número es par\n"
          ]
        }
      ]
    },
    {
      "cell_type": "markdown",
      "source": [
        "- Forma 3"
      ],
      "metadata": {
        "id": "1HVV0LsPlUcB"
      }
    },
    {
      "cell_type": "code",
      "source": [
        "print(\" El número es par\") if n % 2 == 0 else print(\"El número es impar\")"
      ],
      "metadata": {
        "colab": {
          "base_uri": "https://localhost:8080/"
        },
        "id": "Ml2cj600l21z",
        "outputId": "5c8daf23-ef74-44c9-cf63-151b7d6fa966"
      },
      "execution_count": 31,
      "outputs": [
        {
          "output_type": "stream",
          "name": "stdout",
          "text": [
            " El número es par\n"
          ]
        }
      ]
    },
    {
      "cell_type": "markdown",
      "source": [
        "6. Escribe un programa que reciba tres números e imprima el mayor de los tres.\n",
        "- Forma 1"
      ],
      "metadata": {
        "id": "8MoDmZECh1rN"
      }
    },
    {
      "cell_type": "code",
      "source": [
        "n=int(input(\"Ingrese un número \"))\n",
        "m=int(input(\"Ingrese un número \"))\n",
        "p=int(input(\"Ingrese un número \"))\n",
        "if n > m and n > m:\n",
        "    print(f\"El mayor es: {n}\")\n",
        "else:\n",
        "    if m > p:\n",
        "        print(f\"El mayor es: {m}\")\n",
        "    else:\n",
        "        print(f\"El mayor es: {p}\")"
      ],
      "metadata": {
        "colab": {
          "base_uri": "https://localhost:8080/"
        },
        "id": "BBR1a5V3mG8-",
        "outputId": "ebd6d3eb-4ccb-4597-9952-042bbb0a57d2"
      },
      "execution_count": 34,
      "outputs": [
        {
          "output_type": "stream",
          "name": "stdout",
          "text": [
            "Ingrese un número 3\n",
            "Ingrese un número 4\n",
            "Ingrese un número 5\n",
            "El mayor es: 5\n"
          ]
        }
      ]
    },
    {
      "cell_type": "markdown",
      "source": [
        "- Forma 2"
      ],
      "metadata": {
        "id": "sp1Zj-RsmHVv"
      }
    },
    {
      "cell_type": "code",
      "source": [
        "n=int(input(\"Ingrese un número \"))\n",
        "m=int(input(\"Ingrese un número \"))\n",
        "p=int(input(\"Ingrese un número \"))\n",
        "if n>m and n>p:\n",
        " print (f\"{n} es el mayor\")\n",
        "elif m>n and m>p:\n",
        "  print(f\"{m} es el mayor\")\n",
        "else:\n",
        " print(p, \"es el mayor\")"
      ],
      "metadata": {
        "colab": {
          "base_uri": "https://localhost:8080/"
        },
        "id": "rcJjo0M-mInK",
        "outputId": "cdbda4b0-6c3b-41e9-cf2c-1ed4691da3a8"
      },
      "execution_count": 36,
      "outputs": [
        {
          "output_type": "stream",
          "name": "stdout",
          "text": [
            "Ingrese un número 3\n",
            "Ingrese un número 4\n",
            "Ingrese un número 5\n",
            "5 es el mayor\n"
          ]
        }
      ]
    },
    {
      "cell_type": "markdown",
      "source": [
        "- Forma 3"
      ],
      "metadata": {
        "id": "-Aj4y-tQmJEA"
      }
    },
    {
      "cell_type": "code",
      "source": [
        "print (f\"{n} es el mayor\") if n>m and n>p else print((f\"{m} es el mayor\")) if  m>n and m>p else print(p, \"es el mayor\")"
      ],
      "metadata": {
        "colab": {
          "base_uri": "https://localhost:8080/"
        },
        "id": "IdxLRMb1mKId",
        "outputId": "c15731cc-4520-42cb-a8bc-2fadd6d04b2c"
      },
      "execution_count": 42,
      "outputs": [
        {
          "output_type": "stream",
          "name": "stdout",
          "text": [
            "5 es el mayor\n"
          ]
        }
      ]
    },
    {
      "cell_type": "markdown",
      "source": [
        "7. Escribe un programa que reciba un año e indique si es bisiesto\n",
        "- Forma 1"
      ],
      "metadata": {
        "id": "TX0qw0vvh4aa"
      }
    },
    {
      "cell_type": "code",
      "source": [
        "a = int(input(\"Ingresa un año: \"))\n",
        "if (a % 4 == 0 and a % 100 != 0) or (a % 400 == 0):\n",
        " print(f\" Sí, {a} es año bisiesto\")\n",
        "else:\n",
        " print(f\"No, {a} no es año bisiesto\")"
      ],
      "metadata": {
        "colab": {
          "base_uri": "https://localhost:8080/"
        },
        "id": "EzEB9O8Gn4K7",
        "outputId": "83665ca5-f0c5-42c8-c4ca-ffff47f86424"
      },
      "execution_count": 45,
      "outputs": [
        {
          "output_type": "stream",
          "name": "stdout",
          "text": [
            "Ingresa un año: 2024\n",
            " Sí, 2024 es año bisiesto\n"
          ]
        }
      ]
    },
    {
      "cell_type": "markdown",
      "source": [
        "- Forma 2"
      ],
      "metadata": {
        "id": "6hBn4vNKn4of"
      }
    },
    {
      "cell_type": "code",
      "source": [
        "a= int(input(\"Ingresa un año: \"))\n",
        "if a % 400 == 0:\n",
        " print(f\" Sí, {a} es año bisiesto\")\n",
        "elif a % 100 == 0:\n",
        " print(f\"No, {a} no es año bisiesto\")\n",
        "elif a % 4 == 0:\n",
        " print(f\" Sí, {a} es año bisiesto\")\n",
        "else:\n",
        " print(f\"No, {a} no es año bisiesto\")"
      ],
      "metadata": {
        "colab": {
          "base_uri": "https://localhost:8080/"
        },
        "id": "26Dqc3bPn5se",
        "outputId": "3262e137-d17e-41a8-ece6-71fd63d7c411"
      },
      "execution_count": 46,
      "outputs": [
        {
          "output_type": "stream",
          "name": "stdout",
          "text": [
            "Ingresa un año: 2024\n",
            " Sí, 2024 es año bisiesto\n"
          ]
        }
      ]
    },
    {
      "cell_type": "markdown",
      "source": [
        "- Forma 3"
      ],
      "metadata": {
        "id": "fvQusjByn6Dk"
      }
    },
    {
      "cell_type": "code",
      "source": [
        " print(f\" Sí, {a} es año bisiesto\") if (a % 4 == 0 and a % 100 != 0) or (a % 400 == 0) else print(f\"No, {a} no es año bisiesto\")"
      ],
      "metadata": {
        "colab": {
          "base_uri": "https://localhost:8080/"
        },
        "id": "3tzeRNj_n7GG",
        "outputId": "6da3adf4-4c44-4749-fc13-22c1b949b991"
      },
      "execution_count": 47,
      "outputs": [
        {
          "output_type": "stream",
          "name": "stdout",
          "text": [
            " Sí, 2024 es año bisiesto\n"
          ]
        }
      ]
    },
    {
      "cell_type": "markdown",
      "source": [
        "8. Escribe un programa que reciba una contraseña e indique si cumple con las siguientes reglas: más de 8 caracteres, contiene al menos un número y una letra mayúscula.\n"
      ],
      "metadata": {
        "id": "E-pDFcyCh7cj"
      }
    },
    {
      "cell_type": "code",
      "source": [
        "contraseña= input(\"Digita la contraseña de al menos 8 caracteres: \")\n",
        "\n",
        "tiene_longitud = len(contraseña) >= 8\n",
        "tiene_numero = any(caracter.isdigit() for caracter in contraseña)\n",
        "tiene_mayuscula = any(caracter.isupper() for caracter in contraseña)\n",
        "\n",
        "if tiene_longitud and tiene_numero and tiene_mayuscula:\n",
        "    print(f\"{contraseña} es válida\")\n",
        "else:\n",
        "    print(f\"{contraseña} no es válida\")"
      ],
      "metadata": {
        "colab": {
          "base_uri": "https://localhost:8080/"
        },
        "id": "UBMyovtlpYRF",
        "outputId": "814b4134-b9d8-47b0-f57a-31dc09336aab"
      },
      "execution_count": 48,
      "outputs": [
        {
          "output_type": "stream",
          "name": "stdout",
          "text": [
            "Digita la contraseña de al menos 8 caracteres: Hjsi4908\n",
            "Hjsi4908 es válida\n"
          ]
        }
      ]
    },
    {
      "cell_type": "markdown",
      "source": [
        "9. Escribe un programa que lea un número e imprima “Fizz” si es divisible por 3, “Buzz” si es divisible por 5 y “FizzBuzz” si es divisible por ambos.\n",
        "- Forma 2"
      ],
      "metadata": {
        "id": "BAYlSgBziAHK"
      }
    },
    {
      "cell_type": "code",
      "source": [
        "c = int(input(\"Ingresa un número: \"))\n",
        "if c % 3 == 0 and c % 5 == 0:\n",
        " print(\"FizzBuzz\")\n",
        "else:\n",
        "  if c % 3 == 0:\n",
        "    print(\"Fizz\")\n",
        "  elif c % 5 == 0 :\n",
        "    print(\"Buzz\")\n",
        "  else:\n",
        "    print (\"El número no es divisible entre 3, ni entre 5.\")"
      ],
      "metadata": {
        "colab": {
          "base_uri": "https://localhost:8080/"
        },
        "id": "yKtbUvBfqmWe",
        "outputId": "841cb044-7f18-4ccc-d4b8-85b0dfabea7f"
      },
      "execution_count": 57,
      "outputs": [
        {
          "output_type": "stream",
          "name": "stdout",
          "text": [
            "Ingresa un número: 8\n",
            "El número no es divisible entre 3, ni entre 5.\n"
          ]
        }
      ]
    },
    {
      "cell_type": "markdown",
      "source": [
        "10. Escribe un programa que simule un cajero automático: recibe el monto a retirar e imprime si la operación es posible en base al saldo disponible\n",
        "- Forma 1"
      ],
      "metadata": {
        "id": "5xuGTw0miEqN"
      }
    },
    {
      "cell_type": "code",
      "source": [
        "saldo = 1000000\n",
        "retiro = float(input(\"Monto a retirar: \"))\n",
        "if retiro <= saldo:\n",
        "  print(\"Operación exitosa\")\n",
        "else:\n",
        "  print(\"No hay fondos disponibles para esta cantidad\")"
      ],
      "metadata": {
        "colab": {
          "base_uri": "https://localhost:8080/"
        },
        "id": "qpO6MCWcs9jy",
        "outputId": "9716851c-1f0c-4357-c99d-8eea7a51f83c"
      },
      "execution_count": 60,
      "outputs": [
        {
          "output_type": "stream",
          "name": "stdout",
          "text": [
            "Monto a retirar: 1200000\n",
            "No hay fondos disponibles para esta cantidad\n"
          ]
        }
      ]
    },
    {
      "cell_type": "code",
      "source": [],
      "metadata": {
        "id": "1xkczrl-uEhz"
      },
      "execution_count": null,
      "outputs": []
    },
    {
      "cell_type": "markdown",
      "source": [
        "- Forma 2"
      ],
      "metadata": {
        "id": "mmqwR6gytaBf"
      }
    },
    {
      "cell_type": "code",
      "source": [
        "saldo = 1000000\n",
        "retiro = float(input(\"Monto a retirar: \"))\n",
        "if retiro==0:\n",
        "  print(\"Ingrese un valor diferente a 0\")\n",
        "elif retiro <= saldo:\n",
        "  print(\"Operación exitosa\")\n",
        "else:\n",
        "  print(\"No hay fondos disponibles para esta cantidad\")"
      ],
      "metadata": {
        "colab": {
          "base_uri": "https://localhost:8080/"
        },
        "id": "tTP85cratbNT",
        "outputId": "50fc3ea7-c05d-4534-aa38-cd212133f36c"
      },
      "execution_count": 64,
      "outputs": [
        {
          "output_type": "stream",
          "name": "stdout",
          "text": [
            "Monto a retirar: 120000\n",
            "Operación exitosa\n"
          ]
        }
      ]
    },
    {
      "cell_type": "markdown",
      "source": [
        "- Forma 3"
      ],
      "metadata": {
        "id": "0iBzebATtzub"
      }
    },
    {
      "cell_type": "code",
      "source": [
        "print(\"Operación exitosa\") if retiro <= saldo else print(\"No hay fondos disponibles para esta cantidad\")"
      ],
      "metadata": {
        "colab": {
          "base_uri": "https://localhost:8080/"
        },
        "id": "Eeq7l_2zt1Mu",
        "outputId": "6497a9d3-ca9f-4905-ed58-2a75d62837a1"
      },
      "execution_count": 65,
      "outputs": [
        {
          "output_type": "stream",
          "name": "stdout",
          "text": [
            "Operación exitosa\n"
          ]
        }
      ]
    }
  ]
}